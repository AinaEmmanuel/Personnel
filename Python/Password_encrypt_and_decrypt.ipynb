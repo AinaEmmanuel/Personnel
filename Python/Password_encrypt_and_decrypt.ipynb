{
  "nbformat": 4,
  "nbformat_minor": 0,
  "metadata": {
    "colab": {
      "name": "Password encrypt and decrypt.ipynb",
      "provenance": [],
      "collapsed_sections": [],
      "authorship_tag": "ABX9TyPSKb43eG1WZogown6YKwWI",
      "include_colab_link": true
    },
    "kernelspec": {
      "name": "python3",
      "display_name": "Python 3"
    }
  },
  "cells": [
    {
      "cell_type": "markdown",
      "metadata": {
        "id": "view-in-github",
        "colab_type": "text"
      },
      "source": [
        "<a href=\"https://colab.research.google.com/github/plthiyagu/Personnel/blob/master/Password_encrypt_and_decrypt.ipynb\" target=\"_parent\"><img src=\"https://colab.research.google.com/assets/colab-badge.svg\" alt=\"Open In Colab\"/></a>"
      ]
    },
    {
      "cell_type": "code",
      "metadata": {
        "id": "xOkKqXgK056g",
        "colab_type": "code",
        "colab": {
          "base_uri": "https://localhost:8080/",
          "height": 255
        },
        "outputId": "da4b5cee-d214-488f-e34b-387ddb61aa88"
      },
      "source": [
        "!pip install Fernet"
      ],
      "execution_count": 3,
      "outputs": [
        {
          "output_type": "stream",
          "text": [
            "Collecting Fernet\n",
            "  Downloading https://files.pythonhosted.org/packages/70/ab/59678e91d691a6121b98b3272d563da84160e03d865a236df93fb2910684/fernet-1.0.1.tar.gz\n",
            "Collecting pyaes\n",
            "  Downloading https://files.pythonhosted.org/packages/44/66/2c17bae31c906613795711fc78045c285048168919ace2220daa372c7d72/pyaes-1.6.1.tar.gz\n",
            "Building wheels for collected packages: Fernet, pyaes\n",
            "  Building wheel for Fernet (setup.py) ... \u001b[?25l\u001b[?25hdone\n",
            "  Created wheel for Fernet: filename=fernet-1.0.1-cp36-none-any.whl size=2242 sha256=d43440a6553691d476af5f53299c9ed9e3fa4b82a03257c0a685f91f4c513bd4\n",
            "  Stored in directory: /root/.cache/pip/wheels/f3/43/c3/8ceadf7f614a43784db0955f4c8957af6a083a060c564b5242\n",
            "  Building wheel for pyaes (setup.py) ... \u001b[?25l\u001b[?25hdone\n",
            "  Created wheel for pyaes: filename=pyaes-1.6.1-cp36-none-any.whl size=26346 sha256=d43d8b01e5c8926cb02dcf389dd785349913bdb40851f90b1f71109143d8984c\n",
            "  Stored in directory: /root/.cache/pip/wheels/bd/cf/7b/ced9e8f28c50ed666728e8ab178ffedeb9d06f6a10f85d6432\n",
            "Successfully built Fernet pyaes\n",
            "Installing collected packages: pyaes, Fernet\n",
            "Successfully installed Fernet-1.0.1 pyaes-1.6.1\n"
          ],
          "name": "stdout"
        }
      ]
    },
    {
      "cell_type": "code",
      "metadata": {
        "id": "ZLzJ5OZS1JqM",
        "colab_type": "code",
        "colab": {}
      },
      "source": [
        "import secrets\n",
        "from base64 import urlsafe_b64encode as b64e, urlsafe_b64decode as b64d\n",
        "\n",
        "from cryptography.fernet import Fernet\n",
        "from cryptography.hazmat.backends import default_backend\n",
        "from cryptography.hazmat.primitives import hashes\n",
        "from cryptography.hazmat.primitives.kdf.pbkdf2 import PBKDF2HMAC\n",
        "\n",
        "backend = default_backend()\n",
        "iterations = 100_000\n",
        "\n",
        "def _derive_key(password: bytes, salt: bytes, iterations: int = iterations) -> bytes:\n",
        "    \"\"\"Derive a secret key from a given password and salt\"\"\"\n",
        "    kdf = PBKDF2HMAC(\n",
        "        algorithm=hashes.SHA256(), length=32, salt=salt,\n",
        "        iterations=iterations, backend=backend)\n",
        "    return b64e(kdf.derive(password))\n",
        "\n",
        "def password_encrypt(message: bytes, password: str, iterations: int = iterations) -> bytes:\n",
        "    salt = secrets.token_bytes(16)\n",
        "    key = _derive_key(password.encode(), salt, iterations)\n",
        "    return b64e(\n",
        "        b'%b%b%b' % (\n",
        "            salt,\n",
        "            iterations.to_bytes(4, 'big'),\n",
        "            b64d(Fernet(key).encrypt(message)),\n",
        "        )\n",
        "    )\n",
        "\n",
        "def password_decrypt(token: bytes, password: str) -> bytes:\n",
        "    decoded = b64d(token)\n",
        "    salt, iter, token = decoded[:16], decoded[16:20], b64e(decoded[20:])\n",
        "    iterations = int.from_bytes(iter, 'big')\n",
        "    key = _derive_key(password.encode(), salt, iterations)\n",
        "    return Fernet(key).decrypt(token)\n"
      ],
      "execution_count": 4,
      "outputs": []
    },
    {
      "cell_type": "code",
      "metadata": {
        "id": "iPATLk2_1bvX",
        "colab_type": "code",
        "colab": {
          "base_uri": "https://localhost:8080/",
          "height": 35
        },
        "outputId": "b0934188-ca2e-41e2-ef6e-cca803b7dc6e"
      },
      "source": [
        "message = 'John Doe'\n",
        "password = 'mypass'\n",
        "password_encrypt(message.encode(), password)\n",
        "token = '9Ljs-w8IRM3XT1NDBbSBuQABhqCAAAAAAFyJdhiCPXms2vQHO7o81xZJn5r8_PAtro8Qpw48kdKrq4vt-551BCUbcErb_GyYRz8SVsu8hxTXvvKOn9QdewRGDfwx'\n",
        "password_decrypt(token, password).decode()\n"
      ],
      "execution_count": 6,
      "outputs": [
        {
          "output_type": "execute_result",
          "data": {
            "application/vnd.google.colaboratory.intrinsic+json": {
              "type": "string"
            },
            "text/plain": [
              "'John Doe'"
            ]
          },
          "metadata": {
            "tags": []
          },
          "execution_count": 6
        }
      ]
    },
    {
      "cell_type": "code",
      "metadata": {
        "id": "wWF1HAfD10ea",
        "colab_type": "code",
        "colab": {}
      },
      "source": [
        ""
      ],
      "execution_count": null,
      "outputs": []
    }
  ]
}