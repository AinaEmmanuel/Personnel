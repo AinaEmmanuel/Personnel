{
  "nbformat": 4,
  "nbformat_minor": 0,
  "metadata": {
    "colab": {
      "name": "Python Refresh.ipynb",
      "provenance": [],
      "collapsed_sections": [],
      "authorship_tag": "ABX9TyNViIEv+gx0b5eb6+yPie4b",
      "include_colab_link": true
    },
    "kernelspec": {
      "name": "python3",
      "display_name": "Python 3"
    }
  },
  "cells": [
    {
      "cell_type": "markdown",
      "metadata": {
        "id": "view-in-github",
        "colab_type": "text"
      },
      "source": [
        "<a href=\"https://colab.research.google.com/github/plthiyagu/Personnel/blob/master/Python_Refresh.ipynb\" target=\"_parent\"><img src=\"https://colab.research.google.com/assets/colab-badge.svg\" alt=\"Open In Colab\"/></a>"
      ]
    },
    {
      "cell_type": "code",
      "metadata": {
        "id": "haU0ROgdo1FW",
        "colab_type": "code",
        "outputId": "0131bf90-a628-4177-9e24-93f82bf4c9a9",
        "colab": {
          "base_uri": "https://localhost:8080/",
          "height": 34
        }
      },
      "source": [
        "print(\"Hello World\")"
      ],
      "execution_count": 1,
      "outputs": [
        {
          "output_type": "stream",
          "text": [
            "Hello World\n"
          ],
          "name": "stdout"
        }
      ]
    },
    {
      "cell_type": "markdown",
      "metadata": {
        "id": "85BRYw_9FI8S",
        "colab_type": "text"
      },
      "source": [
        "Hello world with a variable"
      ]
    },
    {
      "cell_type": "code",
      "metadata": {
        "id": "rvF_8eO_E91i",
        "colab_type": "code",
        "colab": {
          "base_uri": "https://localhost:8080/",
          "height": 34
        },
        "outputId": "afefac9f-a197-4b6a-b9fd-97c0272ebacf"
      },
      "source": [
        "msg = \"Hello World\"\n",
        "print(msg)"
      ],
      "execution_count": 2,
      "outputs": [
        {
          "output_type": "stream",
          "text": [
            "Hello World\n"
          ],
          "name": "stdout"
        }
      ]
    },
    {
      "cell_type": "markdown",
      "metadata": {
        "id": "3-cfR6gLFLyi",
        "colab_type": "text"
      },
      "source": [
        "Concatenation (combining strings)"
      ]
    },
    {
      "cell_type": "code",
      "metadata": {
        "id": "OobqE50qFEma",
        "colab_type": "code",
        "colab": {
          "base_uri": "https://localhost:8080/",
          "height": 34
        },
        "outputId": "2961d25a-9b6f-41f3-fd54-8aeb307ed97d"
      },
      "source": [
        "firstname ='Albert'\n",
        "lastname = 'Einstein'\n",
        "fullname = firstname + ' ' + lastname\n",
        "print(fullname)"
      ],
      "execution_count": 3,
      "outputs": [
        {
          "output_type": "stream",
          "text": [
            "Albert Einstein\n"
          ],
          "name": "stdout"
        }
      ]
    },
    {
      "cell_type": "markdown",
      "metadata": {
        "id": "-jHiUjyYGOzG",
        "colab_type": "text"
      },
      "source": [
        "A list stores a series of items in a particular order. You access items using an index, or within a loop.\n"
      ]
    },
    {
      "cell_type": "markdown",
      "metadata": {
        "id": "0DdXI4yVGhCA",
        "colab_type": "text"
      },
      "source": [
        "Make a list"
      ]
    },
    {
      "cell_type": "code",
      "metadata": {
        "id": "pHh2WCqWFc0J",
        "colab_type": "code",
        "colab": {}
      },
      "source": [
        "bikes = ['trek','redline','giant']"
      ],
      "execution_count": 0,
      "outputs": []
    },
    {
      "cell_type": "markdown",
      "metadata": {
        "id": "ep08SeSuGooK",
        "colab_type": "text"
      },
      "source": [
        "Get the first item in a list"
      ]
    },
    {
      "cell_type": "code",
      "metadata": {
        "id": "d-Xt1XDrSgYV",
        "colab_type": "code",
        "colab": {
          "base_uri": "https://localhost:8080/",
          "height": 34
        },
        "outputId": "a6e9c943-ad4e-4c26-da7d-2ef91d4913dd"
      },
      "source": [
        "bikes[0]"
      ],
      "execution_count": 5,
      "outputs": [
        {
          "output_type": "execute_result",
          "data": {
            "text/plain": [
              "'trek'"
            ]
          },
          "metadata": {
            "tags": []
          },
          "execution_count": 5
        }
      ]
    },
    {
      "cell_type": "markdown",
      "metadata": {
        "id": "AHOZrpOVGvo4",
        "colab_type": "text"
      },
      "source": [
        "Get the last item in a list"
      ]
    },
    {
      "cell_type": "code",
      "metadata": {
        "id": "5z2sjU3_Gs0t",
        "colab_type": "code",
        "colab": {
          "base_uri": "https://localhost:8080/",
          "height": 34
        },
        "outputId": "bbe15810-cac0-404e-e50a-2ecca797e515"
      },
      "source": [
        "bikes[-1]"
      ],
      "execution_count": 6,
      "outputs": [
        {
          "output_type": "execute_result",
          "data": {
            "text/plain": [
              "'giant'"
            ]
          },
          "metadata": {
            "tags": []
          },
          "execution_count": 6
        }
      ]
    },
    {
      "cell_type": "markdown",
      "metadata": {
        "id": "Ypn22fgzG19C",
        "colab_type": "text"
      },
      "source": [
        "Adding items to a list\n",
        "\n"
      ]
    },
    {
      "cell_type": "code",
      "metadata": {
        "id": "PyfAPAgdG0ws",
        "colab_type": "code",
        "colab": {
          "base_uri": "https://localhost:8080/",
          "height": 34
        },
        "outputId": "0e26d517-2a80-49b5-a348-674f5e3a09b4"
      },
      "source": [
        "bikes.append('cycle')\n",
        "bikes"
      ],
      "execution_count": 7,
      "outputs": [
        {
          "output_type": "execute_result",
          "data": {
            "text/plain": [
              "['trek', 'redline', 'giant', 'cycle']"
            ]
          },
          "metadata": {
            "tags": []
          },
          "execution_count": 7
        }
      ]
    },
    {
      "cell_type": "markdown",
      "metadata": {
        "id": "Gz014QH7bs2k",
        "colab_type": "text"
      },
      "source": [
        "Remove an item by value"
      ]
    },
    {
      "cell_type": "code",
      "metadata": {
        "id": "DhLKgkp7boeK",
        "colab_type": "code",
        "colab": {
          "base_uri": "https://localhost:8080/",
          "height": 34
        },
        "outputId": "2815f82d-3036-4e71-fefc-285a32618db6"
      },
      "source": [
        "bikes.remove('cycle')\n",
        "bikes"
      ],
      "execution_count": 8,
      "outputs": [
        {
          "output_type": "execute_result",
          "data": {
            "text/plain": [
              "['trek', 'redline', 'giant']"
            ]
          },
          "metadata": {
            "tags": []
          },
          "execution_count": 8
        }
      ]
    },
    {
      "cell_type": "code",
      "metadata": {
        "id": "nKD0z7EhcHQt",
        "colab_type": "code",
        "colab": {
          "base_uri": "https://localhost:8080/",
          "height": 34
        },
        "outputId": "60ce4cc0-0a9c-4ebd-d877-95de48b1e09c"
      },
      "source": [
        "print([s for s in bikes if s.endswith('e')])"
      ],
      "execution_count": 9,
      "outputs": [
        {
          "output_type": "stream",
          "text": [
            "['redline']\n"
          ],
          "name": "stdout"
        }
      ]
    },
    {
      "cell_type": "markdown",
      "metadata": {
        "id": "xZ2dHDVAeJ9G",
        "colab_type": "text"
      },
      "source": [
        "Reverse the List"
      ]
    },
    {
      "cell_type": "code",
      "metadata": {
        "id": "DUwazg9Pd7D-",
        "colab_type": "code",
        "colab": {
          "base_uri": "https://localhost:8080/",
          "height": 51
        },
        "outputId": "fd80de7b-9062-411b-b619-7167ec2874e8"
      },
      "source": [
        "newstr = bikes[::-1]\n",
        "print(bikes)\n",
        "print(newstr)"
      ],
      "execution_count": 10,
      "outputs": [
        {
          "output_type": "stream",
          "text": [
            "['trek', 'redline', 'giant']\n",
            "['giant', 'redline', 'trek']\n"
          ],
          "name": "stdout"
        }
      ]
    },
    {
      "cell_type": "markdown",
      "metadata": {
        "id": "8xU4NnxsHF1F",
        "colab_type": "text"
      },
      "source": [
        "Making numerical lists"
      ]
    },
    {
      "cell_type": "code",
      "metadata": {
        "id": "sNa6WWR9HAzn",
        "colab_type": "code",
        "colab": {
          "base_uri": "https://localhost:8080/",
          "height": 34
        },
        "outputId": "27cc04aa-8d61-4d5c-8fd3-1d388cb4f180"
      },
      "source": [
        "squares=[]\n",
        "for x in range(1,11):\n",
        "  squares.append(x**2)\n",
        "squares"
      ],
      "execution_count": 11,
      "outputs": [
        {
          "output_type": "execute_result",
          "data": {
            "text/plain": [
              "[1, 4, 9, 16, 25, 36, 49, 64, 81, 100]"
            ]
          },
          "metadata": {
            "tags": []
          },
          "execution_count": 11
        }
      ]
    },
    {
      "cell_type": "markdown",
      "metadata": {
        "id": "BWBuW3I_KatS",
        "colab_type": "text"
      },
      "source": [
        "List comprehensions"
      ]
    },
    {
      "cell_type": "code",
      "metadata": {
        "id": "NC07ghI9JKsR",
        "colab_type": "code",
        "colab": {
          "base_uri": "https://localhost:8080/",
          "height": 34
        },
        "outputId": "5169f048-9a39-4c06-f9e6-97acf438ff36"
      },
      "source": [
        "squares=[x**2 for x in range(1,11)]\n",
        "squares"
      ],
      "execution_count": 12,
      "outputs": [
        {
          "output_type": "execute_result",
          "data": {
            "text/plain": [
              "[1, 4, 9, 16, 25, 36, 49, 64, 81, 100]"
            ]
          },
          "metadata": {
            "tags": []
          },
          "execution_count": 12
        }
      ]
    },
    {
      "cell_type": "markdown",
      "metadata": {
        "id": "eYc-KUzVKpXD",
        "colab_type": "text"
      },
      "source": [
        "Slicing a list"
      ]
    },
    {
      "cell_type": "code",
      "metadata": {
        "id": "Qzazpx3pKm5E",
        "colab_type": "code",
        "colab": {
          "base_uri": "https://localhost:8080/",
          "height": 34
        },
        "outputId": "5942aabc-31c7-4cdf-fc40-6710296bd3c8"
      },
      "source": [
        "finishers = ['sam', 'bob', 'ada', 'bea']\n",
        "firsttwo= finishers[:2]\n",
        "firsttwo"
      ],
      "execution_count": 13,
      "outputs": [
        {
          "output_type": "execute_result",
          "data": {
            "text/plain": [
              "['sam', 'bob']"
            ]
          },
          "metadata": {
            "tags": []
          },
          "execution_count": 13
        }
      ]
    },
    {
      "cell_type": "markdown",
      "metadata": {
        "id": "bDzO-K_wRRS2",
        "colab_type": "text"
      },
      "source": [
        "Copying a list"
      ]
    },
    {
      "cell_type": "code",
      "metadata": {
        "id": "Jz-3j8J-K0W9",
        "colab_type": "code",
        "colab": {
          "base_uri": "https://localhost:8080/",
          "height": 34
        },
        "outputId": "89b04d3b-3804-498d-fc42-d3888fff8d07"
      },
      "source": [
        "copyofbikes= bikes[:]\n",
        "copyofbikes"
      ],
      "execution_count": 14,
      "outputs": [
        {
          "output_type": "execute_result",
          "data": {
            "text/plain": [
              "['trek', 'redline', 'giant']"
            ]
          },
          "metadata": {
            "tags": []
          },
          "execution_count": 14
        }
      ]
    },
    {
      "cell_type": "markdown",
      "metadata": {
        "id": "aa2L6YjTRcdc",
        "colab_type": "text"
      },
      "source": [
        "Tuples are similar to lists, but the items in a tuple can't be \n",
        "modified.\n"
      ]
    },
    {
      "cell_type": "markdown",
      "metadata": {
        "id": "yJ3iFJ8sRh7J",
        "colab_type": "text"
      },
      "source": [
        "Making a tuple"
      ]
    },
    {
      "cell_type": "code",
      "metadata": {
        "id": "H7v-u-HYRYkO",
        "colab_type": "code",
        "colab": {
          "base_uri": "https://localhost:8080/",
          "height": 34
        },
        "outputId": "eb51937a-caac-437a-c6a2-7669651d1e16"
      },
      "source": [
        "dimensions = (1920, 1080)\n",
        "dimensions"
      ],
      "execution_count": 15,
      "outputs": [
        {
          "output_type": "execute_result",
          "data": {
            "text/plain": [
              "(1920, 1080)"
            ]
          },
          "metadata": {
            "tags": []
          },
          "execution_count": 15
        }
      ]
    },
    {
      "cell_type": "markdown",
      "metadata": {
        "id": "tNLgwQG2tn7G",
        "colab_type": "text"
      },
      "source": [
        "If statements are used to test for particular conditions and respond appropriately.\n"
      ]
    },
    {
      "cell_type": "markdown",
      "metadata": {
        "id": "0lfSVyiku4r0",
        "colab_type": "text"
      },
      "source": [
        "Conditional test with lists"
      ]
    },
    {
      "cell_type": "code",
      "metadata": {
        "id": "TumQ2X87Rm8i",
        "colab_type": "code",
        "colab": {
          "base_uri": "https://localhost:8080/",
          "height": 34
        },
        "outputId": "37f5e0b6-e635-443b-b86f-d4475bc45bdd"
      },
      "source": [
        "if('trek' in bikes):\n",
        "  print(bikes)"
      ],
      "execution_count": 16,
      "outputs": [
        {
          "output_type": "stream",
          "text": [
            "['trek', 'redline', 'giant']\n"
          ],
          "name": "stdout"
        }
      ]
    },
    {
      "cell_type": "code",
      "metadata": {
        "id": "jNXr76YGKiUO",
        "colab_type": "code",
        "colab": {
          "base_uri": "https://localhost:8080/",
          "height": 34
        },
        "outputId": "d0a6f853-3bc8-4cf8-ac1f-9ce1cac117c2"
      },
      "source": [
        "if('surly' not in bikes):\n",
        "  print('surly')"
      ],
      "execution_count": 17,
      "outputs": [
        {
          "output_type": "stream",
          "text": [
            "surly\n"
          ],
          "name": "stdout"
        }
      ]
    },
    {
      "cell_type": "markdown",
      "metadata": {
        "id": "CiKmisWfu7lk",
        "colab_type": "text"
      },
      "source": [
        "A simple if test"
      ]
    },
    {
      "cell_type": "code",
      "metadata": {
        "id": "bATqRO7TuP0b",
        "colab_type": "code",
        "colab": {
          "base_uri": "https://localhost:8080/",
          "height": 34
        },
        "outputId": "34217b53-d24d-46d7-a737-5c1174eca656"
      },
      "source": [
        "age=21\n",
        "if(age >=18):\n",
        "  print(\"You can vote!\")"
      ],
      "execution_count": 18,
      "outputs": [
        {
          "output_type": "stream",
          "text": [
            "You can vote!\n"
          ],
          "name": "stdout"
        }
      ]
    },
    {
      "cell_type": "markdown",
      "metadata": {
        "id": "2PtFYsxMvAHR",
        "colab_type": "text"
      },
      "source": [
        "If-elif-else statements"
      ]
    },
    {
      "cell_type": "code",
      "metadata": {
        "id": "Zpx9QExbuYhn",
        "colab_type": "code",
        "colab": {
          "base_uri": "https://localhost:8080/",
          "height": 34
        },
        "outputId": "897d6817-fb9d-4b83-83c8-bc642ca4d13b"
      },
      "source": [
        "if(age <4):\n",
        "  ticketprice=0\n",
        "elif(age, 18):\n",
        "  ticketprice=10\n",
        "else:\n",
        "  ticketprice=15\n",
        "ticketprice"
      ],
      "execution_count": 19,
      "outputs": [
        {
          "output_type": "execute_result",
          "data": {
            "text/plain": [
              "10"
            ]
          },
          "metadata": {
            "tags": []
          },
          "execution_count": 19
        }
      ]
    },
    {
      "cell_type": "markdown",
      "metadata": {
        "id": "eM6hZlP9vEFH",
        "colab_type": "text"
      },
      "source": [
        "Assigning boolean values"
      ]
    },
    {
      "cell_type": "code",
      "metadata": {
        "id": "kt4t2cYxuxAn",
        "colab_type": "code",
        "colab": {}
      },
      "source": [
        "game_active = True\n",
        "can_edit = False"
      ],
      "execution_count": 0,
      "outputs": []
    },
    {
      "cell_type": "markdown",
      "metadata": {
        "id": "eXHrD2-tvPJF",
        "colab_type": "text"
      },
      "source": [
        "Dictionaries store connections between pieces of information. Each item in a dictionary is a key-value pair."
      ]
    },
    {
      "cell_type": "markdown",
      "metadata": {
        "id": "rKJjixJCwso2",
        "colab_type": "text"
      },
      "source": [
        "A simple dictionary"
      ]
    },
    {
      "cell_type": "code",
      "metadata": {
        "id": "4SRocRA3vLCw",
        "colab_type": "code",
        "colab": {
          "base_uri": "https://localhost:8080/",
          "height": 34
        },
        "outputId": "fa7f8c2a-aa29-492a-a5bf-bce0d0645eee"
      },
      "source": [
        "alien= { 'color':'green','points':5}\n",
        "alien"
      ],
      "execution_count": 21,
      "outputs": [
        {
          "output_type": "execute_result",
          "data": {
            "text/plain": [
              "{'color': 'green', 'points': 5}"
            ]
          },
          "metadata": {
            "tags": []
          },
          "execution_count": 21
        }
      ]
    },
    {
      "cell_type": "markdown",
      "metadata": {
        "id": "pMTRUSgqwxuo",
        "colab_type": "text"
      },
      "source": [
        "Accessing a value"
      ]
    },
    {
      "cell_type": "code",
      "metadata": {
        "id": "Jh7c-6FWwoeY",
        "colab_type": "code",
        "colab": {
          "base_uri": "https://localhost:8080/",
          "height": 34
        },
        "outputId": "dbcd5e01-9667-48bf-90e2-fbd0ae32c751"
      },
      "source": [
        "print(\"The alien's color is \" + alien['color'])"
      ],
      "execution_count": 22,
      "outputs": [
        {
          "output_type": "stream",
          "text": [
            "The alien's color is green\n"
          ],
          "name": "stdout"
        }
      ]
    },
    {
      "cell_type": "markdown",
      "metadata": {
        "id": "vWGgFHt9xYMc",
        "colab_type": "text"
      },
      "source": [
        "Adding a new key-value pair"
      ]
    },
    {
      "cell_type": "code",
      "metadata": {
        "id": "RF8slDgSwl_u",
        "colab_type": "code",
        "colab": {
          "base_uri": "https://localhost:8080/",
          "height": 34
        },
        "outputId": "2f7cdb55-ee8e-4c17-b3a1-ea90b3cef6e4"
      },
      "source": [
        "alien['xposition']=0\n",
        "alien"
      ],
      "execution_count": 23,
      "outputs": [
        {
          "output_type": "execute_result",
          "data": {
            "text/plain": [
              "{'color': 'green', 'points': 5, 'xposition': 0}"
            ]
          },
          "metadata": {
            "tags": []
          },
          "execution_count": 23
        }
      ]
    },
    {
      "cell_type": "markdown",
      "metadata": {
        "id": "qYX37XYlxj7V",
        "colab_type": "text"
      },
      "source": [
        "Looping through all key-value pairs"
      ]
    },
    {
      "cell_type": "code",
      "metadata": {
        "id": "AftOE-qtxeID",
        "colab_type": "code",
        "colab": {
          "base_uri": "https://localhost:8080/",
          "height": 51
        },
        "outputId": "e6b4f9d9-69e6-4b88-e2d8-2f4e6ff6c204"
      },
      "source": [
        "favnumbers = {'eric': 17, 'ever': 4}\n",
        "for name,number in favnumbers.items():\n",
        "  print(name + ' loves ' + str(number))"
      ],
      "execution_count": 24,
      "outputs": [
        {
          "output_type": "stream",
          "text": [
            "eric loves 17\n",
            "ever loves 4\n"
          ],
          "name": "stdout"
        }
      ]
    },
    {
      "cell_type": "markdown",
      "metadata": {
        "id": "uQRraA60zKL8",
        "colab_type": "text"
      },
      "source": [
        "Looping through all keys"
      ]
    },
    {
      "cell_type": "code",
      "metadata": {
        "id": "Ser2x5ENyXYP",
        "colab_type": "code",
        "colab": {
          "base_uri": "https://localhost:8080/",
          "height": 51
        },
        "outputId": "618d162e-e043-4dac-d0bf-0cdd6b73afa7"
      },
      "source": [
        "favnumbers = {'eric': 17, 'ever': 4}\n",
        "for name in favnumbers.keys():\n",
        "  print(name + ' loves a number')"
      ],
      "execution_count": 25,
      "outputs": [
        {
          "output_type": "stream",
          "text": [
            "eric loves a number\n",
            "ever loves a number\n"
          ],
          "name": "stdout"
        }
      ]
    },
    {
      "cell_type": "markdown",
      "metadata": {
        "id": "2BxANAYEzl3_",
        "colab_type": "text"
      },
      "source": [
        "Looping through all the values"
      ]
    },
    {
      "cell_type": "code",
      "metadata": {
        "id": "pOYN9S-RzlEg",
        "colab_type": "code",
        "colab": {
          "base_uri": "https://localhost:8080/",
          "height": 51
        },
        "outputId": "e788a2fa-6814-4ea9-c630-db47e6e59529"
      },
      "source": [
        "favnumbers = {'eric': 17, 'ever': 4}\n",
        "for number in favnumbers.values():\n",
        "  print(str(number) + ' is a favorite')"
      ],
      "execution_count": 26,
      "outputs": [
        {
          "output_type": "stream",
          "text": [
            "17 is a favorite\n",
            "4 is a favorite\n"
          ],
          "name": "stdout"
        }
      ]
    },
    {
      "cell_type": "markdown",
      "metadata": {
        "id": "_eFNenWo2YXD",
        "colab_type": "text"
      },
      "source": [
        "Your programs can prompt the user for input. All input is stored as a string.\n",
        "\n"
      ]
    },
    {
      "cell_type": "code",
      "metadata": {
        "id": "Bkii6ZSq2Oy_",
        "colab_type": "code",
        "colab": {
          "base_uri": "https://localhost:8080/",
          "height": 51
        },
        "outputId": "138c0a65-fbc6-4a2b-b13b-25c6fb55a3d6"
      },
      "source": [
        "name = input(\"What's your name? \")\n",
        "print(\"Hello, \" + name + \"!\")"
      ],
      "execution_count": 27,
      "outputs": [
        {
          "output_type": "stream",
          "text": [
            "What's your name? Thiyagu\n",
            "Hello, Thiyagu!\n"
          ],
          "name": "stdout"
        }
      ]
    },
    {
      "cell_type": "markdown",
      "metadata": {
        "id": "SGJEWgLT3vLP",
        "colab_type": "text"
      },
      "source": [
        "Prompting for numerical input"
      ]
    },
    {
      "cell_type": "code",
      "metadata": {
        "id": "1HzAKAC-3W8j",
        "colab_type": "code",
        "colab": {
          "base_uri": "https://localhost:8080/",
          "height": 51
        },
        "outputId": "3d3a752f-aa31-46a8-d14b-e0fa09e5df55"
      },
      "source": [
        "age = input(\"How old are you? \")\n",
        "age=int(age)\n",
        "age"
      ],
      "execution_count": 28,
      "outputs": [
        {
          "output_type": "stream",
          "text": [
            "How old are you? 21\n"
          ],
          "name": "stdout"
        },
        {
          "output_type": "execute_result",
          "data": {
            "text/plain": [
              "21"
            ]
          },
          "metadata": {
            "tags": []
          },
          "execution_count": 28
        }
      ]
    },
    {
      "cell_type": "code",
      "metadata": {
        "id": "UMVdTh5632sE",
        "colab_type": "code",
        "colab": {
          "base_uri": "https://localhost:8080/",
          "height": 51
        },
        "outputId": "147f88ba-4d18-4ba0-8d0c-28cbb82fb08f"
      },
      "source": [
        "pi = input(\"What's the value of pi? \")\n",
        "pi = float(pi)\n",
        "pi"
      ],
      "execution_count": 29,
      "outputs": [
        {
          "output_type": "stream",
          "text": [
            "What's the value of pi? 4\n"
          ],
          "name": "stdout"
        },
        {
          "output_type": "execute_result",
          "data": {
            "text/plain": [
              "4.0"
            ]
          },
          "metadata": {
            "tags": []
          },
          "execution_count": 29
        }
      ]
    },
    {
      "cell_type": "markdown",
      "metadata": {
        "id": "p3t_pq-LkH98",
        "colab_type": "text"
      },
      "source": [
        "A while loop repeats a block of code as long as a certain condition is true.\n"
      ]
    },
    {
      "cell_type": "code",
      "metadata": {
        "id": "HztHroCu4CoS",
        "colab_type": "code",
        "colab": {}
      },
      "source": [
        "currentvalue=1\n",
        "while(currentvalue <=5):\n",
        "  print(currentvalue)\n",
        "  currentvalue+=1\n"
      ],
      "execution_count": 0,
      "outputs": []
    },
    {
      "cell_type": "markdown",
      "metadata": {
        "id": "YuqTTJm1nLvM",
        "colab_type": "text"
      },
      "source": [
        "Letting the user choose when to quit\n"
      ]
    },
    {
      "cell_type": "code",
      "metadata": {
        "id": "SdWVOgO7387-",
        "colab_type": "code",
        "colab": {
          "base_uri": "https://localhost:8080/",
          "height": 85
        },
        "outputId": "54187626-45a1-43b2-c710-15e157b73e9b"
      },
      "source": [
        "msg=' '\n",
        "while(msg != 'quit'):\n",
        "  msg = input(\"What's your message? \")\n",
        "  print(msg)"
      ],
      "execution_count": 32,
      "outputs": [
        {
          "output_type": "stream",
          "text": [
            "What's your message? hi\n",
            "hi\n",
            "What's your message? quit\n",
            "quit\n"
          ],
          "name": "stdout"
        }
      ]
    },
    {
      "cell_type": "markdown",
      "metadata": {
        "id": "ZyAbmMstnq8q",
        "colab_type": "text"
      },
      "source": [
        "Functions are named blocks of code, designed to do one specific job. Information passed to a function is called an argument, and information received by a function is called a parameter"
      ]
    },
    {
      "cell_type": "markdown",
      "metadata": {
        "id": "pLEom_uWn6uI",
        "colab_type": "text"
      },
      "source": [
        "A simple function"
      ]
    },
    {
      "cell_type": "code",
      "metadata": {
        "id": "3XCcNW6AneqA",
        "colab_type": "code",
        "colab": {
          "base_uri": "https://localhost:8080/",
          "height": 34
        },
        "outputId": "1d0667ff-0ead-401e-ad4e-b1959a11ea32"
      },
      "source": [
        "def greetUser():\n",
        "  print(\"Hello!\")\n",
        "greetUser()"
      ],
      "execution_count": 35,
      "outputs": [
        {
          "output_type": "stream",
          "text": [
            "Hello!\n"
          ],
          "name": "stdout"
        }
      ]
    },
    {
      "cell_type": "markdown",
      "metadata": {
        "id": "xfYYIVZAoMDD",
        "colab_type": "text"
      },
      "source": [
        "Passing an argument"
      ]
    },
    {
      "cell_type": "code",
      "metadata": {
        "id": "yEreiPWVoFuh",
        "colab_type": "code",
        "colab": {
          "base_uri": "https://localhost:8080/",
          "height": 34
        },
        "outputId": "3383163e-791b-410d-e839-df183c541f99"
      },
      "source": [
        "def greetUser(username):\n",
        "  print(\"Hello,\"+username+ '!')\n",
        "greetUser(\"Thiyagu\")"
      ],
      "execution_count": 37,
      "outputs": [
        {
          "output_type": "stream",
          "text": [
            "Hello,Thiyagu!\n"
          ],
          "name": "stdout"
        }
      ]
    },
    {
      "cell_type": "markdown",
      "metadata": {
        "id": "KdiFSb3Iosy_",
        "colab_type": "text"
      },
      "source": [
        "Default values for parameters"
      ]
    },
    {
      "cell_type": "code",
      "metadata": {
        "id": "8tqODCanokH8",
        "colab_type": "code",
        "colab": {
          "base_uri": "https://localhost:8080/",
          "height": 51
        },
        "outputId": "2579f0c3-1878-4b84-e8e2-a01d7078f01b"
      },
      "source": [
        "def makePizza(topping='bacon'):\n",
        "  print(\"Have a  \" + topping + \"  Pizza!\")\n",
        "\n",
        "makePizza()\n",
        "makePizza('peporani')\n"
      ],
      "execution_count": 40,
      "outputs": [
        {
          "output_type": "stream",
          "text": [
            "Have a  bacon  Pizza!\n",
            "Have a  peporani  Pizza!\n"
          ],
          "name": "stdout"
        }
      ]
    },
    {
      "cell_type": "markdown",
      "metadata": {
        "id": "-nejBGQWqYXa",
        "colab_type": "text"
      },
      "source": [
        "Returning a value"
      ]
    },
    {
      "cell_type": "code",
      "metadata": {
        "id": "AByGEA4_oDRq",
        "colab_type": "code",
        "colab": {
          "base_uri": "https://localhost:8080/",
          "height": 34
        },
        "outputId": "43ee507d-684a-4749-cca1-bdc3c8073d1c"
      },
      "source": [
        "def addNumbers(x:int, y:int)-> int:\n",
        "  return x+y\n",
        "\n",
        "sum=addNumbers(5,6)\n",
        "print(sum)\n"
      ],
      "execution_count": 43,
      "outputs": [
        {
          "output_type": "stream",
          "text": [
            "11\n"
          ],
          "name": "stdout"
        }
      ]
    },
    {
      "cell_type": "markdown",
      "metadata": {
        "id": "K2BjDQyatu5O",
        "colab_type": "text"
      },
      "source": [
        "A class defines the behavior of an object and the kind of information an object can store. The information in a class is stored in attributes, and functions that belong to a class are called methods. A child class inherits the attributes and methods from its parent class."
      ]
    },
    {
      "cell_type": "code",
      "metadata": {
        "id": "YqxI32qRtjg0",
        "colab_type": "code",
        "colab": {
          "base_uri": "https://localhost:8080/",
          "height": 51
        },
        "outputId": "f9212787-264e-4abe-9f92-3ad9af81cec7"
      },
      "source": [
        "class Dog:\n",
        "  def __init__(self,name):\n",
        "    self.name= name\n",
        "  def sit(self):\n",
        "    print(self.name+ \" is sitting\")\n",
        "\n",
        "my_dog = Dog('Peso')\n",
        "print(my_dog.name + \" is a great dog!\")\n",
        "my_dog.sit()\n"
      ],
      "execution_count": 46,
      "outputs": [
        {
          "output_type": "stream",
          "text": [
            "Peso is a great dog!\n",
            "Peso is sitting\n"
          ],
          "name": "stdout"
        }
      ]
    },
    {
      "cell_type": "markdown",
      "metadata": {
        "id": "9LTIwgeIu8Ao",
        "colab_type": "text"
      },
      "source": [
        "Inheritance"
      ]
    },
    {
      "cell_type": "code",
      "metadata": {
        "id": "gRqIZICouoqU",
        "colab_type": "code",
        "colab": {
          "base_uri": "https://localhost:8080/",
          "height": 51
        },
        "outputId": "c15a9e7e-b612-4b39-a633-d09f99f6724b"
      },
      "source": [
        "class SARDog(Dog):\n",
        "  def __init(self, name):\n",
        "    super.__init__(name)\n",
        "\n",
        "  def search(self):\n",
        "    print(self.name + \"  is a search dog!\")\n",
        "\n",
        "mydog=SARDog('Willie')\n",
        "mydog.sit()\n",
        "mydog.search()\n"
      ],
      "execution_count": 47,
      "outputs": [
        {
          "output_type": "stream",
          "text": [
            "Willie is sitting\n",
            "Willie  is a search dog!\n"
          ],
          "name": "stdout"
        }
      ]
    },
    {
      "cell_type": "markdown",
      "metadata": {
        "id": "IAldRjsKv2mk",
        "colab_type": "text"
      },
      "source": [
        "Your programs can read from files and write to files. Files are opened in read mode ('r') by default, but can also be opened in write mode ('w') and append mode ('a')."
      ]
    },
    {
      "cell_type": "markdown",
      "metadata": {
        "id": "7DA6pasFxyIW",
        "colab_type": "text"
      },
      "source": [
        "Writing to a file"
      ]
    },
    {
      "cell_type": "code",
      "metadata": {
        "id": "Eoya5r4Uvu5J",
        "colab_type": "code",
        "colab": {
          "base_uri": "https://localhost:8080/",
          "height": 34
        },
        "outputId": "05694b60-15bb-453c-c2e1-52d612481c0a"
      },
      "source": [
        "filename = 'thiyagu.txt'\n",
        "with open(filename,'w') as fileObject:\n",
        "  fileObject.write(\"Woops! I have deleted the content!\")\n",
        "  fileObject.write(\"Woops! I have deleted the content222!\")\n"
      ],
      "execution_count": 54,
      "outputs": [
        {
          "output_type": "stream",
          "text": [
            "Woops! I have deleted the content!Woops! I have deleted the content222!\n"
          ],
          "name": "stdout"
        }
      ]
    },
    {
      "cell_type": "markdown",
      "metadata": {
        "id": "9odoh5tqx38R",
        "colab_type": "text"
      },
      "source": [
        "Read lines in file"
      ]
    },
    {
      "cell_type": "code",
      "metadata": {
        "id": "lKLEx48_wdQI",
        "colab_type": "code",
        "colab": {
          "base_uri": "https://localhost:8080/",
          "height": 34
        },
        "outputId": "8a0687a6-7858-48b6-cbc9-c7ce01fff92b"
      },
      "source": [
        "with open(filename) as fileObject:\n",
        "  lines= fileObject.readlines()\n",
        "\n",
        "for line in lines:\n",
        "  print(line)"
      ],
      "execution_count": 56,
      "outputs": [
        {
          "output_type": "stream",
          "text": [
            "Woops! I have deleted the content!Woops! I have deleted the content222!\n"
          ],
          "name": "stdout"
        }
      ]
    },
    {
      "cell_type": "markdown",
      "metadata": {
        "id": "rOQKQ9cByBFm",
        "colab_type": "text"
      },
      "source": [
        "Appending to a file"
      ]
    },
    {
      "cell_type": "code",
      "metadata": {
        "id": "vccIrrcEyF3Q",
        "colab_type": "code",
        "colab": {
          "base_uri": "https://localhost:8080/",
          "height": 68
        },
        "outputId": "490c85a1-02c2-4c66-852b-946171e88e62"
      },
      "source": [
        "filename = 'journal.txt'\n",
        "with open(filename,'a') as fileObject:\n",
        "  fileObject.write(\"\\nI love making games.\")\n",
        "\n",
        "with open(filename) as fileObject:\n",
        "  lines= fileObject.readlines()\n",
        "\n",
        "for line in lines:\n",
        "  print(line)"
      ],
      "execution_count": 1,
      "outputs": [
        {
          "output_type": "stream",
          "text": [
            "\n",
            "\n",
            "I love making games.\n"
          ],
          "name": "stdout"
        }
      ]
    },
    {
      "cell_type": "markdown",
      "metadata": {
        "id": "g3dsfqG0QuyK",
        "colab_type": "text"
      },
      "source": [
        "Exceptions help you respond appropriately to errors that are likely to occur. You place code that might cause an error in the try block. Code that should run in response to an error goes in the except block. Code that should run only \n",
        "if the try block was successful goes in the else block."
      ]
    },
    {
      "cell_type": "code",
      "metadata": {
        "id": "pv7LsPU8Q8EX",
        "colab_type": "code",
        "colab": {
          "base_uri": "https://localhost:8080/",
          "height": 51
        },
        "outputId": "7b9332a1-ad1d-4401-a328-e49d4fdd42b8"
      },
      "source": [
        "prompt = \"How many tickets do you need? \"\n",
        "num_tickets = input(prompt)\n",
        "\n",
        "\n",
        "try:\n",
        "  num_tickets=int(num_tickets)\n",
        "except ValueError:\n",
        "   print(\"Please try again.\")\n",
        "else:\n",
        "  print(\"Your tickets are printing\")"
      ],
      "execution_count": 4,
      "outputs": [
        {
          "output_type": "stream",
          "text": [
            "How many tickets do you need? 7\n",
            "Your tickets are printing\n"
          ],
          "name": "stdout"
        }
      ]
    },
    {
      "cell_type": "code",
      "metadata": {
        "id": "FnCBAGZ8Rb_M",
        "colab_type": "code",
        "colab": {}
      },
      "source": [
        "users = ['val', 'bob', 'mia', 'ron', 'ned']"
      ],
      "execution_count": 0,
      "outputs": []
    },
    {
      "cell_type": "markdown",
      "metadata": {
        "id": "Doqs6E_oRvCh",
        "colab_type": "text"
      },
      "source": [
        "Pop the last item from a list"
      ]
    },
    {
      "cell_type": "code",
      "metadata": {
        "id": "U9OgqignRt9o",
        "colab_type": "code",
        "colab": {
          "base_uri": "https://localhost:8080/",
          "height": 34
        },
        "outputId": "8374b441-1b13-492f-8d4f-1a215df4714d"
      },
      "source": [
        "most_recent_user = users.pop()\n",
        "most_recent_user"
      ],
      "execution_count": 7,
      "outputs": [
        {
          "output_type": "execute_result",
          "data": {
            "text/plain": [
              "'ron'"
            ]
          },
          "metadata": {
            "tags": []
          },
          "execution_count": 7
        }
      ]
    },
    {
      "cell_type": "markdown",
      "metadata": {
        "id": "l7iK8M9tR8kG",
        "colab_type": "text"
      },
      "source": [
        "Pop the first item in a list"
      ]
    },
    {
      "cell_type": "code",
      "metadata": {
        "id": "aNnpc2IWR11d",
        "colab_type": "code",
        "colab": {
          "base_uri": "https://localhost:8080/",
          "height": 34
        },
        "outputId": "73f4cd13-dd38-49e4-fa9e-e95251335a25"
      },
      "source": [
        "first_user = users.pop(0)\n",
        "first_user"
      ],
      "execution_count": 8,
      "outputs": [
        {
          "output_type": "execute_result",
          "data": {
            "text/plain": [
              "'val'"
            ]
          },
          "metadata": {
            "tags": []
          },
          "execution_count": 8
        }
      ]
    },
    {
      "cell_type": "markdown",
      "metadata": {
        "id": "zyvGZxSuSiN5",
        "colab_type": "text"
      },
      "source": [
        "Sorting a list permanently in reverse alphabetical order"
      ]
    },
    {
      "cell_type": "code",
      "metadata": {
        "id": "RaFng7sTSYUP",
        "colab_type": "code",
        "colab": {
          "base_uri": "https://localhost:8080/",
          "height": 34
        },
        "outputId": "b01be20b-e038-471b-ca5b-9e3be8bb9107"
      },
      "source": [
        "users.sort()\n",
        "users"
      ],
      "execution_count": 11,
      "outputs": [
        {
          "output_type": "execute_result",
          "data": {
            "text/plain": [
              "['bob', 'mia']"
            ]
          },
          "metadata": {
            "tags": []
          },
          "execution_count": 11
        }
      ]
    },
    {
      "cell_type": "markdown",
      "metadata": {
        "id": "4G_xmZ-MSyg-",
        "colab_type": "text"
      },
      "source": [
        "Sorting a list temporarily"
      ]
    },
    {
      "cell_type": "code",
      "metadata": {
        "id": "o1kWh4sVSo5Q",
        "colab_type": "code",
        "colab": {
          "base_uri": "https://localhost:8080/",
          "height": 51
        },
        "outputId": "aac450c2-12a9-46b1-d189-2a74ef2e295d"
      },
      "source": [
        "print(sorted(users))\n",
        "print(sorted(users, reverse=True))"
      ],
      "execution_count": 13,
      "outputs": [
        {
          "output_type": "stream",
          "text": [
            "['bob', 'mia', 'ned', 'ron', 'val']\n",
            "['val', 'ron', 'ned', 'mia', 'bob']\n"
          ],
          "name": "stdout"
        }
      ]
    },
    {
      "cell_type": "markdown",
      "metadata": {
        "id": "LxRhuYyRS7j1",
        "colab_type": "text"
      },
      "source": [
        "Reversing the order of a list"
      ]
    },
    {
      "cell_type": "code",
      "metadata": {
        "id": "l7q5uhMSS4tH",
        "colab_type": "code",
        "colab": {
          "base_uri": "https://localhost:8080/",
          "height": 34
        },
        "outputId": "73d3d7f2-11ac-4e6d-ab42-74efe75dac45"
      },
      "source": [
        "users.reverse()\n",
        "print(users)"
      ],
      "execution_count": 15,
      "outputs": [
        {
          "output_type": "stream",
          "text": [
            "['val', 'bob', 'mia', 'ron', 'ned']\n"
          ],
          "name": "stdout"
        }
      ]
    },
    {
      "cell_type": "markdown",
      "metadata": {
        "id": "DElcy4wZTJ68",
        "colab_type": "text"
      },
      "source": [
        "Printing all items in a list\n"
      ]
    },
    {
      "cell_type": "code",
      "metadata": {
        "id": "w13f24ilTBIA",
        "colab_type": "code",
        "colab": {
          "base_uri": "https://localhost:8080/",
          "height": 102
        },
        "outputId": "43842bbc-ce7c-4a0e-b8d6-a118b9608a8a"
      },
      "source": [
        "for user in users:\n",
        "  print(user)"
      ],
      "execution_count": 16,
      "outputs": [
        {
          "output_type": "stream",
          "text": [
            "val\n",
            "bob\n",
            "mia\n",
            "ron\n",
            "ned\n"
          ],
          "name": "stdout"
        }
      ]
    },
    {
      "cell_type": "markdown",
      "metadata": {
        "id": "3CIj_WX8TWAc",
        "colab_type": "text"
      },
      "source": [
        "Find the length of a list"
      ]
    },
    {
      "cell_type": "code",
      "metadata": {
        "id": "VIVmcNiITP96",
        "colab_type": "code",
        "colab": {
          "base_uri": "https://localhost:8080/",
          "height": 34
        },
        "outputId": "ea3ef3d5-ee05-4ffe-b6ce-e7def63687a9"
      },
      "source": [
        "num_user= len(users)\n",
        "num_user"
      ],
      "execution_count": 17,
      "outputs": [
        {
          "output_type": "execute_result",
          "data": {
            "text/plain": [
              "5"
            ]
          },
          "metadata": {
            "tags": []
          },
          "execution_count": 17
        }
      ]
    },
    {
      "cell_type": "markdown",
      "metadata": {
        "id": "LEEj9ptSTk_5",
        "colab_type": "text"
      },
      "source": [
        "Inserting elements at a particular position"
      ]
    },
    {
      "cell_type": "code",
      "metadata": {
        "id": "l8d56S1QTcmt",
        "colab_type": "code",
        "colab": {
          "base_uri": "https://localhost:8080/",
          "height": 34
        },
        "outputId": "57a193c5-5e28-4387-bd8d-24cb97ebb592"
      },
      "source": [
        "users.insert(3, 'bea')\n",
        "users"
      ],
      "execution_count": 19,
      "outputs": [
        {
          "output_type": "execute_result",
          "data": {
            "text/plain": [
              "['val', 'bob', 'mia', 'bea', 'bea', 'ron', 'ned']"
            ]
          },
          "metadata": {
            "tags": []
          },
          "execution_count": 19
        }
      ]
    },
    {
      "cell_type": "code",
      "metadata": {
        "id": "gFe7uEd1Trm_",
        "colab_type": "code",
        "colab": {}
      },
      "source": [
        ""
      ],
      "execution_count": 0,
      "outputs": []
    }
  ]
}