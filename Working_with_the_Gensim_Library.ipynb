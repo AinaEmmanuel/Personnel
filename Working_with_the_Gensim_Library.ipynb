{
  "nbformat": 4,
  "nbformat_minor": 0,
  "metadata": {
    "colab": {
      "name": "Working with the Gensim Library.ipynb",
      "provenance": [],
      "authorship_tag": "ABX9TyPlCoe46Mm7Z2LU7bnIwVj/",
      "include_colab_link": true
    },
    "kernelspec": {
      "name": "python3",
      "display_name": "Python 3"
    }
  },
  "cells": [
    {
      "cell_type": "markdown",
      "metadata": {
        "id": "view-in-github",
        "colab_type": "text"
      },
      "source": [
        "<a href=\"https://colab.research.google.com/github/plthiyagu/Personnel/blob/master/Working_with_the_Gensim_Library.ipynb\" target=\"_parent\"><img src=\"https://colab.research.google.com/assets/colab-badge.svg\" alt=\"Open In Colab\"/></a>"
      ]
    },
    {
      "cell_type": "markdown",
      "metadata": {
        "id": "aFY2D6V3XP7m"
      },
      "source": [
        "https://stackabuse.com/python-for-nlp-working-with-the-gensim-library-part-1/"
      ]
    },
    {
      "cell_type": "code",
      "metadata": {
        "id": "4xIh3VLb78rY",
        "outputId": "a60fd79e-5f63-4d27-e17b-aad05350d396",
        "colab": {
          "base_uri": "https://localhost:8080/",
          "height": 207
        }
      },
      "source": [
        "! pip install gensim"
      ],
      "execution_count": 3,
      "outputs": [
        {
          "output_type": "stream",
          "text": [
            "Requirement already satisfied: gensim in /usr/local/lib/python3.6/dist-packages (3.6.0)\n",
            "Requirement already satisfied: six>=1.5.0 in /usr/local/lib/python3.6/dist-packages (from gensim) (1.15.0)\n",
            "Requirement already satisfied: scipy>=0.18.1 in /usr/local/lib/python3.6/dist-packages (from gensim) (1.4.1)\n",
            "Requirement already satisfied: smart-open>=1.2.1 in /usr/local/lib/python3.6/dist-packages (from gensim) (2.2.0)\n",
            "Requirement already satisfied: numpy>=1.11.3 in /usr/local/lib/python3.6/dist-packages (from gensim) (1.18.5)\n",
            "Requirement already satisfied: requests in /usr/local/lib/python3.6/dist-packages (from smart-open>=1.2.1->gensim) (2.23.0)\n",
            "Requirement already satisfied: certifi>=2017.4.17 in /usr/local/lib/python3.6/dist-packages (from requests->smart-open>=1.2.1->gensim) (2020.6.20)\n",
            "Requirement already satisfied: urllib3!=1.25.0,!=1.25.1,<1.26,>=1.21.1 in /usr/local/lib/python3.6/dist-packages (from requests->smart-open>=1.2.1->gensim) (1.24.3)\n",
            "Requirement already satisfied: chardet<4,>=3.0.2 in /usr/local/lib/python3.6/dist-packages (from requests->smart-open>=1.2.1->gensim) (3.0.4)\n",
            "Requirement already satisfied: idna<3,>=2.5 in /usr/local/lib/python3.6/dist-packages (from requests->smart-open>=1.2.1->gensim) (2.10)\n"
          ],
          "name": "stdout"
        }
      ]
    },
    {
      "cell_type": "markdown",
      "metadata": {
        "id": "NSZ9HvRW8GO3"
      },
      "source": [
        "Gensim was primarily developed for topic modeling. However, it now supports a variety of other NLP tasks such as converting words to vectors (word2vec), document to vectors (doc2vec), finding text similarity, and text summarization."
      ]
    },
    {
      "cell_type": "code",
      "metadata": {
        "id": "d-E355Sc7_lW",
        "outputId": "0b2a52e4-0610-467e-e0c8-66020bf38ab0",
        "colab": {
          "base_uri": "https://localhost:8080/",
          "height": 816
        }
      },
      "source": [
        "import gensim\n",
        "from gensim import corpora\n",
        "from pprint import pprint\n",
        "\n",
        "text = [\"\"\"In computer science, artificial intelligence (AI),\n",
        "             sometimes called machine intelligence, is intelligence\n",
        "             demonstrated by machines, in contrast to the natural intelligence\n",
        "             displayed by humans and animals. Computer science defines\n",
        "             AI research as the study of intelligent agents: any device that\n",
        "             perceives its environment and takes actions that maximize its chance\n",
        "             of successfully achieving its goals.\"\"\"]\n",
        "\n",
        "tokens = [[token for token in sentence.split()] for sentence in text]\n",
        "gensim_dictionary = corpora.Dictionary(tokens)\n",
        "\n",
        "print(\"The dictionary has: \" +str(len(gensim_dictionary)) + \" tokens\")\n",
        "\n",
        "for k, v in gensim_dictionary.token2id.items():\n",
        "    print(f'{k:{15}} {v:{10}}')"
      ],
      "execution_count": 4,
      "outputs": [
        {
          "output_type": "stream",
          "text": [
            "The dictionary has: 46 tokens\n",
            "(AI),                    0\n",
            "AI                       1\n",
            "Computer                 2\n",
            "In                       3\n",
            "achieving                4\n",
            "actions                  5\n",
            "agents:                  6\n",
            "and                      7\n",
            "animals.                 8\n",
            "any                      9\n",
            "artificial              10\n",
            "as                      11\n",
            "by                      12\n",
            "called                  13\n",
            "chance                  14\n",
            "computer                15\n",
            "contrast                16\n",
            "defines                 17\n",
            "demonstrated            18\n",
            "device                  19\n",
            "displayed               20\n",
            "environment             21\n",
            "goals.                  22\n",
            "humans                  23\n",
            "in                      24\n",
            "intelligence            25\n",
            "intelligence,           26\n",
            "intelligent             27\n",
            "is                      28\n",
            "its                     29\n",
            "machine                 30\n",
            "machines,               31\n",
            "maximize                32\n",
            "natural                 33\n",
            "of                      34\n",
            "perceives               35\n",
            "research                36\n",
            "science                 37\n",
            "science,                38\n",
            "sometimes               39\n",
            "study                   40\n",
            "successfully            41\n",
            "takes                   42\n",
            "that                    43\n",
            "the                     44\n",
            "to                      45\n"
          ],
          "name": "stdout"
        }
      ]
    },
    {
      "cell_type": "code",
      "metadata": {
        "id": "riiq3D6C8-Vy",
        "outputId": "28cf3e68-0223-4e39-d7cc-295e4e8ac9d5",
        "colab": {
          "base_uri": "https://localhost:8080/",
          "height": 34
        }
      },
      "source": [
        "print(gensim_dictionary.token2id[\"study\"])"
      ],
      "execution_count": 5,
      "outputs": [
        {
          "output_type": "stream",
          "text": [
            "40\n"
          ],
          "name": "stdout"
        }
      ]
    },
    {
      "cell_type": "code",
      "metadata": {
        "id": "NL6xcFPR9Hpi",
        "outputId": "d1c9dc79-f850-429f-dc4b-85c63cf69d5f",
        "colab": {
          "base_uri": "https://localhost:8080/",
          "height": 34
        }
      },
      "source": [
        "print(list(gensim_dictionary.token2id.keys())[list(gensim_dictionary.token2id.values()).index(40)])"
      ],
      "execution_count": 7,
      "outputs": [
        {
          "output_type": "stream",
          "text": [
            "study\n"
          ],
          "name": "stdout"
        }
      ]
    },
    {
      "cell_type": "code",
      "metadata": {
        "id": "pfrl6Nvu9LC6",
        "outputId": "fd17602b-8cce-45f3-937d-8f743755748b",
        "colab": {
          "base_uri": "https://localhost:8080/",
          "height": 54
        }
      },
      "source": [
        "print(gensim_dictionary.token2id)"
      ],
      "execution_count": 8,
      "outputs": [
        {
          "output_type": "stream",
          "text": [
            "{'(AI),': 0, 'AI': 1, 'Computer': 2, 'In': 3, 'achieving': 4, 'actions': 5, 'agents:': 6, 'and': 7, 'animals.': 8, 'any': 9, 'artificial': 10, 'as': 11, 'by': 12, 'called': 13, 'chance': 14, 'computer': 15, 'contrast': 16, 'defines': 17, 'demonstrated': 18, 'device': 19, 'displayed': 20, 'environment': 21, 'goals.': 22, 'humans': 23, 'in': 24, 'intelligence': 25, 'intelligence,': 26, 'intelligent': 27, 'is': 28, 'its': 29, 'machine': 30, 'machines,': 31, 'maximize': 32, 'natural': 33, 'of': 34, 'perceives': 35, 'research': 36, 'science': 37, 'science,': 38, 'sometimes': 39, 'study': 40, 'successfully': 41, 'takes': 42, 'that': 43, 'the': 44, 'to': 45}\n"
          ],
          "name": "stdout"
        }
      ]
    },
    {
      "cell_type": "code",
      "metadata": {
        "id": "nqkpE-2a9OrB",
        "outputId": "7c64e68a-8d62-45c2-8bc2-390be32a2403",
        "colab": {
          "base_uri": "https://localhost:8080/",
          "height": 71
        }
      },
      "source": [
        "text = [\"\"\"Colloquially, the term \"artificial intelligence\" is used to\n",
        "           describe machines that mimic \"cognitive\" functions that humans\n",
        "           associate with other human minds, such as \"learning\" and \"problem solving\"\"\"]\n",
        "\n",
        "tokens = [[token for token in sentence.split()] for sentence in text]\n",
        "gensim_dictionary.add_documents(tokens)\n",
        "\n",
        "print(\"The dictionary has: \" + str(len(gensim_dictionary)) + \" tokens\")\n",
        "print(gensim_dictionary.token2id)"
      ],
      "execution_count": 9,
      "outputs": [
        {
          "output_type": "stream",
          "text": [
            "The dictionary has: 65 tokens\n",
            "{'(AI),': 0, 'AI': 1, 'Computer': 2, 'In': 3, 'achieving': 4, 'actions': 5, 'agents:': 6, 'and': 7, 'animals.': 8, 'any': 9, 'artificial': 10, 'as': 11, 'by': 12, 'called': 13, 'chance': 14, 'computer': 15, 'contrast': 16, 'defines': 17, 'demonstrated': 18, 'device': 19, 'displayed': 20, 'environment': 21, 'goals.': 22, 'humans': 23, 'in': 24, 'intelligence': 25, 'intelligence,': 26, 'intelligent': 27, 'is': 28, 'its': 29, 'machine': 30, 'machines,': 31, 'maximize': 32, 'natural': 33, 'of': 34, 'perceives': 35, 'research': 36, 'science': 37, 'science,': 38, 'sometimes': 39, 'study': 40, 'successfully': 41, 'takes': 42, 'that': 43, 'the': 44, 'to': 45, '\"artificial': 46, '\"cognitive\"': 47, '\"learning\"': 48, '\"problem': 49, 'Colloquially,': 50, 'associate': 51, 'describe': 52, 'functions': 53, 'human': 54, 'intelligence\"': 55, 'machines': 56, 'mimic': 57, 'minds,': 58, 'other': 59, 'solving': 60, 'such': 61, 'term': 62, 'used': 63, 'with': 64}\n"
          ],
          "name": "stdout"
        }
      ]
    },
    {
      "cell_type": "markdown",
      "metadata": {
        "id": "gkSno4gOZQy5"
      },
      "source": [
        "Creating Dictionaries using Text Files\n"
      ]
    },
    {
      "cell_type": "code",
      "metadata": {
        "id": "AGgC5c0c9T6Z",
        "outputId": "0a10c522-0806-418a-bbd4-9d50647e0ce7",
        "colab": {
          "base_uri": "https://localhost:8080/",
          "height": 241
        }
      },
      "source": [
        "from gensim.utils import simple_preprocess\n",
        "from smart_open import smart_open\n",
        "import os\n",
        "!wget https://raw.githubusercontent.com/plthiyagu/Personnel/master/Dataset/file1.txt\n",
        "\n",
        "gensim_dictionary = corpora.Dictionary(simple_preprocess(sentence, deacc=True) for sentence in open(r'file1.txt', encoding='utf-8'))\n",
        "\n",
        "print(gensim_dictionary.token2id)\n"
      ],
      "execution_count": 11,
      "outputs": [
        {
          "output_type": "stream",
          "text": [
            "--2020-10-03 16:56:17--  https://raw.githubusercontent.com/plthiyagu/Personnel/master/Dataset/file1.txt\n",
            "Resolving raw.githubusercontent.com (raw.githubusercontent.com)... 151.101.0.133, 151.101.64.133, 151.101.128.133, ...\n",
            "Connecting to raw.githubusercontent.com (raw.githubusercontent.com)|151.101.0.133|:443... connected.\n",
            "HTTP request sent, awaiting response... 200 OK\n",
            "Length: 463 [text/plain]\n",
            "Saving to: ‘file1.txt’\n",
            "\n",
            "file1.txt           100%[===================>]     463  --.-KB/s    in 0s      \n",
            "\n",
            "2020-10-03 16:56:18 (18.3 MB/s) - ‘file1.txt’ saved [463/463]\n",
            "\n",
            "{'air': 0, 'also': 1, 'an': 2, 'and': 3, 'aspect': 4, 'average': 5, 'by': 6, 'caused': 7, 'change': 8, 'climate': 9, 'commonly': 10, 'continuing': 11, 'earlier': 12, 'earth': 13, 'economy': 14, 'effects': 15, 'emissions': 16, 'episodes': 17, 'experienced': 18, 'gasses': 19, 'geological': 20, 'global': 21, 'greenhouse': 22, 'in': 23, 'increase': 24, 'industrial': 25, 'is': 26, 'long': 27, 'mainly': 28, 'measurements': 29, 'modern': 30, 'multiple': 31, 'observed': 32, 'ocean': 33, 'of': 34, 'periods': 35, 'refers': 36, 'rise': 37, 'shown': 38, 'since': 39, 'system': 40, 'temperature': 41, 'temperatures': 42, 'term': 43, 'the': 44, 'though': 45, 'to': 46, 'warming': 47}\n"
          ],
          "name": "stdout"
        }
      ]
    },
    {
      "cell_type": "code",
      "metadata": {
        "id": "zlURXmFTTHy6",
        "outputId": "dfe181a6-e362-41e2-beb0-f47823fd153f",
        "colab": {
          "base_uri": "https://localhost:8080/",
          "height": 34
        }
      },
      "source": [
        "!pwd"
      ],
      "execution_count": 17,
      "outputs": [
        {
          "output_type": "stream",
          "text": [
            "/content\n"
          ],
          "name": "stdout"
        }
      ]
    },
    {
      "cell_type": "code",
      "metadata": {
        "id": "hWqlKxiPSqk0"
      },
      "source": [
        "from gensim.utils import simple_preprocess\n",
        "from smart_open import smart_open\n",
        "import os\n",
        "\n",
        "class ReturnTokens(object):\n",
        "    def __init__(self, dir_path):\n",
        "        self.dir_path = dir_path\n",
        "\n",
        "    def __iter__(self):\n",
        "        for file_name in os.listdir(self.dir_path):\n",
        "            for sentence in open(os.path.join(self.dir_path, file_name), encoding='utf-8'):\n",
        "                yield simple_preprocess(sentence)\n",
        "\n",
        "path_to_text_directory = r\"/content/text2.txt\"\n",
        "gensim_dictionary = corpora.Dictionary(ReturnTokens(path_to_text_directory))\n",
        "\n",
        "print(gensim_dictionary.token2id)\n"
      ],
      "execution_count": null,
      "outputs": []
    },
    {
      "cell_type": "markdown",
      "metadata": {
        "id": "9_cEDrHvZZzi"
      },
      "source": [
        "Creating Bag of Words Corpus\n"
      ]
    },
    {
      "cell_type": "code",
      "metadata": {
        "id": "h1hZ2cu-TM4E",
        "outputId": "1cf61e66-ac2f-43b5-d1b5-5b29b08a16c7",
        "colab": {
          "base_uri": "https://localhost:8080/",
          "height": 54
        }
      },
      "source": [
        "import gensim\n",
        "from gensim import corpora\n",
        "from pprint import pprint\n",
        "\n",
        "text = [\"\"\"In computer science, artificial intelligence (AI),\n",
        "           sometimes called machine intelligence, is intelligence\n",
        "           demonstrated by machines, in contrast to the natural intelligence\n",
        "           displayed by humans and animals. Computer science defines\n",
        "           AI research as the study of intelligent agents: any device that\n",
        "           perceives its environment and takes actions that maximize its chance\n",
        "           of successfully achieving its goals.\"\"\"]\n",
        "\n",
        "tokens = [[token for token in sentence.split()] for sentence in text]\n",
        "\n",
        "gensim_dictionary = corpora.Dictionary()\n",
        "gensim_corpus = [gensim_dictionary.doc2bow(token, allow_update=True) for token in tokens]\n",
        "\n",
        "print(gensim_corpus)"
      ],
      "execution_count": 12,
      "outputs": [
        {
          "output_type": "stream",
          "text": [
            "[[(0, 1), (1, 1), (2, 1), (3, 1), (4, 1), (5, 1), (6, 1), (7, 2), (8, 1), (9, 1), (10, 1), (11, 1), (12, 2), (13, 1), (14, 1), (15, 1), (16, 1), (17, 1), (18, 1), (19, 1), (20, 1), (21, 1), (22, 1), (23, 1), (24, 1), (25, 3), (26, 1), (27, 1), (28, 1), (29, 3), (30, 1), (31, 1), (32, 1), (33, 1), (34, 2), (35, 1), (36, 1), (37, 1), (38, 1), (39, 1), (40, 1), (41, 1), (42, 1), (43, 2), (44, 2), (45, 1)]]\n"
          ],
          "name": "stdout"
        }
      ]
    },
    {
      "cell_type": "code",
      "metadata": {
        "id": "OzC2oAZWZfbm",
        "outputId": "420c57ba-e836-4d97-e9f6-c2db42b6a999",
        "colab": {
          "base_uri": "https://localhost:8080/",
          "height": 54
        }
      },
      "source": [
        "word_frequencies = [[(gensim_dictionary[id], frequence) for id, frequence in couple] for couple in gensim_corpus]\n",
        "print(word_frequencies)"
      ],
      "execution_count": 13,
      "outputs": [
        {
          "output_type": "stream",
          "text": [
            "[[('(AI),', 1), ('AI', 1), ('Computer', 1), ('In', 1), ('achieving', 1), ('actions', 1), ('agents:', 1), ('and', 2), ('animals.', 1), ('any', 1), ('artificial', 1), ('as', 1), ('by', 2), ('called', 1), ('chance', 1), ('computer', 1), ('contrast', 1), ('defines', 1), ('demonstrated', 1), ('device', 1), ('displayed', 1), ('environment', 1), ('goals.', 1), ('humans', 1), ('in', 1), ('intelligence', 3), ('intelligence,', 1), ('intelligent', 1), ('is', 1), ('its', 3), ('machine', 1), ('machines,', 1), ('maximize', 1), ('natural', 1), ('of', 2), ('perceives', 1), ('research', 1), ('science', 1), ('science,', 1), ('sometimes', 1), ('study', 1), ('successfully', 1), ('takes', 1), ('that', 2), ('the', 2), ('to', 1)]]\n"
          ],
          "name": "stdout"
        }
      ]
    },
    {
      "cell_type": "markdown",
      "metadata": {
        "id": "CC__5ttuZtbK"
      },
      "source": [
        "Creating Bag of Words Corpus from Text Files\n"
      ]
    },
    {
      "cell_type": "code",
      "metadata": {
        "id": "TufSS25cZqMs",
        "outputId": "89a0c677-cb6f-424a-9f37-5d09b672d54f",
        "colab": {
          "base_uri": "https://localhost:8080/",
          "height": 54
        }
      },
      "source": [
        "from gensim.utils import simple_preprocess\n",
        "from smart_open import smart_open\n",
        "import os\n",
        "#!wget https://raw.githubusercontent.com/plthiyagu/Personnel/master/Dataset/file1.txt\n",
        "\n",
        "tokens = [simple_preprocess(sentence, deacc=True) for sentence in open(r'file1.txt', encoding='utf-8')]\n",
        "\n",
        "gensim_dictionary = corpora.Dictionary()\n",
        "gensim_corpus = [gensim_dictionary.doc2bow(token, allow_update=True) for token in tokens]\n",
        "word_frequencies = [[(gensim_dictionary[id], frequence) for id, frequence in couple] for couple in gensim_corpus]\n",
        "\n",
        "print(word_frequencies)\n"
      ],
      "execution_count": 14,
      "outputs": [
        {
          "output_type": "stream",
          "text": [
            "[[('air', 1), ('also', 1), ('an', 1), ('and', 3), ('aspect', 1), ('average', 2), ('by', 3), ('caused', 1), ('change', 1), ('climate', 2), ('commonly', 1), ('continuing', 1), ('earlier', 1), ('earth', 1), ('economy', 1), ('effects', 1), ('emissions', 1), ('episodes', 1), ('experienced', 1), ('gasses', 1), ('geological', 1), ('global', 1), ('greenhouse', 1), ('in', 3), ('increase', 1), ('industrial', 1), ('is', 1), ('long', 1), ('mainly', 1), ('measurements', 1), ('modern', 1), ('multiple', 1), ('observed', 1), ('ocean', 1), ('of', 5), ('periods', 1), ('refers', 1), ('rise', 1), ('shown', 1), ('since', 1), ('system', 1), ('temperature', 2), ('temperatures', 1), ('term', 2), ('the', 6), ('though', 1), ('to', 1), ('warming', 3)]]\n"
          ],
          "name": "stdout"
        }
      ]
    },
    {
      "cell_type": "code",
      "metadata": {
        "id": "VEPeCHyuZ3a8"
      },
      "source": [
        "from gensim.utils import simple_preprocess\n",
        "from smart_open import smart_open\n",
        "import os\n",
        "\n",
        "class ReturnTokens(object):\n",
        "    def __init__(self, dir_path):\n",
        "        self.dir_path = dir_path\n",
        "\n",
        "    def __iter__(self):\n",
        "        for file_name in os.listdir(self.dir_path):\n",
        "            for sentence in open(os.path.join(self.dir_path, file_name), encoding='utf-8'):\n",
        "                yield simple_preprocess(sentence)\n",
        "\n",
        "path_to_text_directory = r\"E:\\text files\"\n",
        "\n",
        "gensim_dictionary = corpora.Dictionary()\n",
        "gensim_corpus = [gensim_dictionary.doc2bow(token, allow_update=True) for token in ReturnTokens(path_to_text_directory)]\n",
        "word_frequencies = [[(gensim_dictionary[id], frequence) for id, frequence in couple] for couple in gensim_corpus]\n",
        "\n",
        "print(word_frequencies)\n"
      ],
      "execution_count": null,
      "outputs": []
    },
    {
      "cell_type": "markdown",
      "metadata": {
        "id": "uj4H0jM1Z_1L"
      },
      "source": [
        "Creating TF-IDF Corpus\n"
      ]
    },
    {
      "cell_type": "markdown",
      "metadata": {
        "id": "6iVxzyH-aIho"
      },
      "source": [
        "Term frequency = (Frequency of the word in a document)/(Total words in the document)\n"
      ]
    },
    {
      "cell_type": "markdown",
      "metadata": {
        "id": "v3fwVvXuaJ_u"
      },
      "source": [
        "IDF(word) = Log((Total number of documents)/(Number of documents containing the word))\n"
      ]
    },
    {
      "cell_type": "code",
      "metadata": {
        "id": "sBdLQgWqZ8sO",
        "outputId": "0d96d4ea-55a1-41da-ee67-4d7566878e03",
        "colab": {
          "base_uri": "https://localhost:8080/",
          "height": 68
        }
      },
      "source": [
        "import gensim\n",
        "from gensim import corpora\n",
        "from pprint import pprint\n",
        "\n",
        "text = [\"I like to play Football\",\n",
        "       \"Football is the best game\",\n",
        "       \"Which game do you like to play ?\"]\n",
        "\n",
        "tokens = [[token for token in sentence.split()] for sentence in text]\n",
        "\n",
        "gensim_dictionary = corpora.Dictionary()\n",
        "gensim_corpus = [gensim_dictionary.doc2bow(token, allow_update=True) for token in tokens]\n",
        "\n",
        "from gensim import models\n",
        "import numpy as np\n",
        "\n",
        "tfidf = models.TfidfModel(gensim_corpus, smartirs='ntc')\n",
        "\n",
        "for sent in tfidf[gensim_corpus]:\n",
        "    print([[gensim_dictionary[id], np.around(frequency, decimals=2)] for id, frequency in sent])"
      ],
      "execution_count": 16,
      "outputs": [
        {
          "output_type": "stream",
          "text": [
            "[['Football', 0.3], ['I', 0.8], ['like', 0.3], ['play', 0.3], ['to', 0.3]]\n",
            "[['Football', 0.2], ['best', 0.55], ['game', 0.2], ['is', 0.55], ['the', 0.55]]\n",
            "[['like', 0.17], ['play', 0.17], ['to', 0.17], ['game', 0.17], ['?', 0.47], ['Which', 0.47], ['do', 0.47], ['you', 0.47]]\n"
          ],
          "name": "stdout"
        }
      ]
    },
    {
      "cell_type": "markdown",
      "metadata": {
        "id": "7CWRsq43d2Jt"
      },
      "source": [
        "Downloading Built-In Gensim Models and Datasets\n"
      ]
    },
    {
      "cell_type": "code",
      "metadata": {
        "id": "7i_L-nhXaRcx",
        "outputId": "c0597ca2-4130-4e93-8dc7-e47c55ffe271",
        "colab": {
          "base_uri": "https://localhost:8080/",
          "height": 88
        }
      },
      "source": [
        "import gensim.downloader as api\n",
        "\n",
        "w2v_embedding = api.load(\"glove-wiki-gigaword-100\")"
      ],
      "execution_count": 17,
      "outputs": [
        {
          "output_type": "stream",
          "text": [
            "[==================================================] 100.0% 128.1/128.1MB downloaded\n"
          ],
          "name": "stdout"
        },
        {
          "output_type": "stream",
          "text": [
            "/usr/local/lib/python3.6/dist-packages/smart_open/smart_open_lib.py:252: UserWarning: This function is deprecated, use smart_open.open instead. See the migration notes for details: https://github.com/RaRe-Technologies/smart_open/blob/master/README.rst#migrating-to-the-new-open-function\n",
            "  'See the migration notes for details: %s' % _MIGRATION_NOTES_URL\n"
          ],
          "name": "stderr"
        }
      ]
    },
    {
      "cell_type": "code",
      "metadata": {
        "id": "4BNIatXtd6bp"
      },
      "source": [
        "w2v_embedding.most_similar('toyota')"
      ],
      "execution_count": null,
      "outputs": []
    }
  ]
}