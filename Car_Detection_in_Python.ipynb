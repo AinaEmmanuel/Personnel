{
  "nbformat": 4,
  "nbformat_minor": 0,
  "metadata": {
    "colab": {
      "name": "Car Detection in Python.ipynb",
      "provenance": [],
      "authorship_tag": "ABX9TyNanaswfB4lDk01+ArR8V+F",
      "include_colab_link": true
    },
    "kernelspec": {
      "name": "python3",
      "display_name": "Python 3"
    },
    "accelerator": "TPU"
  },
  "cells": [
    {
      "cell_type": "markdown",
      "metadata": {
        "id": "view-in-github",
        "colab_type": "text"
      },
      "source": [
        "<a href=\"https://colab.research.google.com/github/plthiyagu/Personnel/blob/master/Car_Detection_in_Python.ipynb\" target=\"_parent\"><img src=\"https://colab.research.google.com/assets/colab-badge.svg\" alt=\"Open In Colab\"/></a>"
      ]
    },
    {
      "cell_type": "code",
      "metadata": {
        "id": "KEGKpvIOP8mU",
        "colab_type": "code",
        "colab": {}
      },
      "source": [
        "import cv2"
      ],
      "execution_count": 1,
      "outputs": []
    },
    {
      "cell_type": "code",
      "metadata": {
        "id": "Zg8iNgr1RgJg",
        "colab_type": "code",
        "colab": {}
      },
      "source": [
        "videofilename='https://raw.githubusercontent.com/plthiyagu/Personnel/master/Dataset/Cars/cars.mp4'\n",
        "xmlfilename='https://raw.githubusercontent.com/plthiyagu/Personnel/master/Dataset/Cars/cars.xml'"
      ],
      "execution_count": 2,
      "outputs": []
    },
    {
      "cell_type": "code",
      "metadata": {
        "id": "bS6RINUaP-FU",
        "colab_type": "code",
        "colab": {}
      },
      "source": [
        "cap = cv2.VideoCapture(videofilename)"
      ],
      "execution_count": 3,
      "outputs": []
    },
    {
      "cell_type": "code",
      "metadata": {
        "id": "nvwu4011QHu2",
        "colab_type": "code",
        "colab": {}
      },
      "source": [
        "#trained xml classifier describes some features  of some object we want to detect\n",
        "car_cascade = cv2.CascadeClassifier(xmlfilename)"
      ],
      "execution_count": 5,
      "outputs": []
    },
    {
      "cell_type": "code",
      "metadata": {
        "id": "gPY4cO75QR-l",
        "colab_type": "code",
        "colab": {}
      },
      "source": [
        "#loops run if capturing has been initialized\n",
        "while True:\n",
        "  ret, frames= cap.read()"
      ],
      "execution_count": null,
      "outputs": []
    },
    {
      "cell_type": "code",
      "metadata": {
        "id": "_SH1UwAaQazw",
        "colab_type": "code",
        "colab": {
          "base_uri": "https://localhost:8080/",
          "height": 163
        },
        "outputId": "bc798425-9a89-4ae1-9be9-c87b6641ac7a"
      },
      "source": [
        "#Convert to gray scale of each frames\n",
        "gray= cv2.\n",
        "(frames,cv2.COLOR_BGR2GRAY)"
      ],
      "execution_count": 5,
      "outputs": [
        {
          "output_type": "error",
          "ename": "error",
          "evalue": "ignored",
          "traceback": [
            "\u001b[0;31m---------------------------------------------------------------------------\u001b[0m",
            "\u001b[0;31merror\u001b[0m                                     Traceback (most recent call last)",
            "\u001b[0;32m<ipython-input-5-782a3b4d338f>\u001b[0m in \u001b[0;36m<module>\u001b[0;34m()\u001b[0m\n\u001b[0;32m----> 1\u001b[0;31m \u001b[0mgray\u001b[0m\u001b[0;34m=\u001b[0m \u001b[0mcv2\u001b[0m\u001b[0;34m.\u001b[0m\u001b[0mcvtColor\u001b[0m\u001b[0;34m(\u001b[0m\u001b[0mframes\u001b[0m\u001b[0;34m,\u001b[0m\u001b[0mcv2\u001b[0m\u001b[0;34m.\u001b[0m\u001b[0mCOLOR_BGR2GRAY\u001b[0m\u001b[0;34m)\u001b[0m\u001b[0;34m\u001b[0m\u001b[0;34m\u001b[0m\u001b[0m\n\u001b[0m",
            "\u001b[0;31merror\u001b[0m: OpenCV(4.1.2) /io/opencv/modules/imgproc/src/color.cpp:182: error: (-215:Assertion failed) !_src.empty() in function 'cvtColor'\n"
          ]
        }
      ]
    },
    {
      "cell_type": "code",
      "metadata": {
        "id": "WfiFiHMZQsmF",
        "colab_type": "code",
        "colab": {}
      },
      "source": [
        "#Detect cars of different size in the input image\n",
        "cars= car_cascade.detectMultiScale(gray,1.1,1)"
      ],
      "execution_count": null,
      "outputs": []
    },
    {
      "cell_type": "code",
      "metadata": {
        "id": "b88QnY5KSMO1",
        "colab_type": "code",
        "colab": {}
      },
      "source": [
        "#to draw a rectangle in each cars\n",
        "for (x,y,w,h) in cars:\n",
        "  cv2.rectangle(frames,(x,y),(x+w,y+h),(0,0,255),2)"
      ],
      "execution_count": null,
      "outputs": []
    },
    {
      "cell_type": "code",
      "metadata": {
        "id": "La6mmmV3SrYD",
        "colab_type": "code",
        "colab": {}
      },
      "source": [
        "cv2.imshow('video2',frames)"
      ],
      "execution_count": null,
      "outputs": []
    },
    {
      "cell_type": "code",
      "metadata": {
        "id": "gF7mSAzmTypV",
        "colab_type": "code",
        "colab": {}
      },
      "source": [
        "#wait for escape key to stop\n",
        "if cv2.waitkey(33)==27:\n",
        "  break"
      ],
      "execution_count": null,
      "outputs": []
    },
    {
      "cell_type": "code",
      "metadata": {
        "id": "iYcsSIEHT9bc",
        "colab_type": "code",
        "colab": {}
      },
      "source": [
        "#Destroy all windows\n",
        "cv2.destroyAllWindows()"
      ],
      "execution_count": null,
      "outputs": []
    },
    {
      "cell_type": "code",
      "metadata": {
        "id": "OZt_WqgiUG8E",
        "colab_type": "code",
        "colab": {}
      },
      "source": [
        ""
      ],
      "execution_count": null,
      "outputs": []
    }
  ]
}