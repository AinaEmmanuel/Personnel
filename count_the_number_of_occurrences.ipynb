{
  "nbformat": 4,
  "nbformat_minor": 0,
  "metadata": {
    "colab": {
      "name": "count the number of occurrences.ipynb",
      "provenance": [],
      "authorship_tag": "ABX9TyOARZf/LCioX8RMhxzhy+Ob",
      "include_colab_link": true
    },
    "kernelspec": {
      "name": "python3",
      "display_name": "Python 3"
    }
  },
  "cells": [
    {
      "cell_type": "markdown",
      "metadata": {
        "id": "view-in-github",
        "colab_type": "text"
      },
      "source": [
        "<a href=\"https://colab.research.google.com/github/plthiyagu/Personnel/blob/master/count_the_number_of_occurrences.ipynb\" target=\"_parent\"><img src=\"https://colab.research.google.com/assets/colab-badge.svg\" alt=\"Open In Colab\"/></a>"
      ]
    },
    {
      "cell_type": "code",
      "metadata": {
        "id": "ZuRt0xtAvwsp",
        "colab_type": "code",
        "colab": {
          "base_uri": "https://localhost:8080/",
          "height": 34
        },
        "outputId": "241159c0-1986-4d69-d025-1c11bb15ece9"
      },
      "source": [
        "def countX(lst, x): \n",
        "    count = 0\n",
        "    for ele in lst: \n",
        "        if (ele == x): \n",
        "            count = count + 1\n",
        "    return count \n",
        "  \n",
        "# Driver Code \n",
        "lst = [8, 6, 8, 10, 8, 20, 10, 8, 8] \n",
        "x = 8\n",
        "print('{} has occurred {} times'.format(x, countX(lst, x))) "
      ],
      "execution_count": 1,
      "outputs": [
        {
          "output_type": "stream",
          "text": [
            "8 has occurred 5 times\n"
          ],
          "name": "stdout"
        }
      ]
    },
    {
      "cell_type": "code",
      "metadata": {
        "id": "9zfI2o62v4uX",
        "colab_type": "code",
        "colab": {}
      },
      "source": [
        ""
      ],
      "execution_count": 0,
      "outputs": []
    }
  ]
}