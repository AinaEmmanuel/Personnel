{
  "nbformat": 4,
  "nbformat_minor": 0,
  "metadata": {
    "colab": {
      "name": "LeetCode Valid Paranthesis.ipynb",
      "provenance": [],
      "authorship_tag": "ABX9TyOk3v/bIuV/3a7IdWR38j9v",
      "include_colab_link": true
    },
    "kernelspec": {
      "name": "python3",
      "display_name": "Python 3"
    }
  },
  "cells": [
    {
      "cell_type": "markdown",
      "metadata": {
        "id": "view-in-github",
        "colab_type": "text"
      },
      "source": [
        "<a href=\"https://colab.research.google.com/github/plthiyagu/Personnel/blob/master/LeetCode_Valid_Paranthesis.ipynb\" target=\"_parent\"><img src=\"https://colab.research.google.com/assets/colab-badge.svg\" alt=\"Open In Colab\"/></a>"
      ]
    },
    {
      "cell_type": "markdown",
      "metadata": {
        "id": "tTYMzOUDUvUF",
        "colab_type": "text"
      },
      "source": [
        "Given a string containing just the characters '(', ')', '{', '}', '[' and ']', determine if the input string is valid.\n",
        "\n",
        "An input string is valid if:\n",
        "\n",
        "Open brackets must be closed by the same type of brackets.\n",
        "Open brackets must be closed in the correct order.\n",
        "Note that an empty string is also considered valid.\n",
        "\n",
        "Example 1:\n",
        "\n",
        "Input: \"()\"\n",
        "Output: true\n",
        "Example 2:\n",
        "\n",
        "Input: \"()[]{}\"\n",
        "Output: true\n",
        "Example 3:\n",
        "\n",
        "Input: \"(]\"\n",
        "Output: false\n",
        "Example 4:\n",
        "\n",
        "Input: \"([)]\"\n",
        "Output: false\n",
        "Example 5:\n",
        "\n",
        "Input: \"{[]}\"\n",
        "Output: true\n"
      ]
    },
    {
      "cell_type": "code",
      "metadata": {
        "id": "-MtvI7X1Up7K",
        "colab_type": "code",
        "colab": {}
      },
      "source": [
        "mapping = {\n",
        "    \"{\": \"}\",\n",
        "    \"}\": \"{\",\n",
        "    \"(\": \")\",\n",
        "    \")\": \"(\",\n",
        "    \"[\": \"]\",\n",
        "    \"]\": \"[\",\n",
        "}\n",
        "\n",
        "class Solution:\n",
        "    def isValid(self, s):\n",
        "        \"\"\"\n",
        "        :type s: str\n",
        "        :rtype: bool\n",
        "        \"\"\"\n",
        "        if not s:\n",
        "            return True\n",
        "\n",
        "        stack = list()\n",
        "        for char in s:\n",
        "            if not stack or stack[-1] != mapping[char]:\n",
        "                stack.append(char)\n",
        "            else:\n",
        "                stack = stack[:-1]\n",
        "            # print(stack)\n",
        "\n",
        "        return not stack\n"
      ],
      "execution_count": 12,
      "outputs": []
    },
    {
      "cell_type": "code",
      "metadata": {
        "id": "_-x7Qu4xUrGZ",
        "colab_type": "code",
        "colab": {
          "base_uri": "https://localhost:8080/",
          "height": 136
        },
        "outputId": "44471819-5e0d-42b3-a813-0b7a1fafbf05"
      },
      "source": [
        "s = Solution()\n",
        "print(\"\")\n",
        "print('{[()]}')\n",
        "print(s.isValid('{[()]}'))\n",
        "print(\"\")\n",
        "print('{]')\n",
        "print(s.isValid('{]'))\n",
        "print(\"\")"
      ],
      "execution_count": 11,
      "outputs": [
        {
          "output_type": "stream",
          "text": [
            "\n",
            "{[()]}\n",
            "True\n",
            "\n",
            "{]\n",
            "False\n",
            "\n"
          ],
          "name": "stdout"
        }
      ]
    },
    {
      "cell_type": "code",
      "metadata": {
        "id": "TqALDqqFXTXz",
        "colab_type": "code",
        "colab": {}
      },
      "source": [
        ""
      ],
      "execution_count": null,
      "outputs": []
    }
  ]
}