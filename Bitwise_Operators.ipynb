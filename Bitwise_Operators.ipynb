{
  "nbformat": 4,
  "nbformat_minor": 0,
  "metadata": {
    "colab": {
      "name": "Bitwise Operators.ipynb",
      "provenance": [],
      "collapsed_sections": [],
      "authorship_tag": "ABX9TyNZHZg/YZ3US52Ajp5xdft1",
      "include_colab_link": true
    },
    "kernelspec": {
      "name": "python3",
      "display_name": "Python 3"
    }
  },
  "cells": [
    {
      "cell_type": "markdown",
      "metadata": {
        "id": "view-in-github",
        "colab_type": "text"
      },
      "source": [
        "<a href=\"https://colab.research.google.com/github/plthiyagu/Personnel/blob/master/Bitwise_Operators.ipynb\" target=\"_parent\"><img src=\"https://colab.research.google.com/assets/colab-badge.svg\" alt=\"Open In Colab\"/></a>"
      ]
    },
    {
      "cell_type": "markdown",
      "metadata": {
        "id": "IzpgMoM3WMlH",
        "colab_type": "text"
      },
      "source": [
        "Convert a Number to Binary"
      ]
    },
    {
      "cell_type": "code",
      "metadata": {
        "id": "JkljDCCHWORU",
        "colab_type": "code",
        "colab": {
          "base_uri": "https://localhost:8080/",
          "height": 34
        },
        "outputId": "8634bf7b-a1bc-4b82-ae39-eb470d944446"
      },
      "source": [
        "dec_num=9\n",
        "bin_num=bin(dec_num)\n",
        "print(bin_num)"
      ],
      "execution_count": 1,
      "outputs": [
        {
          "output_type": "stream",
          "text": [
            "0b1001\n"
          ],
          "name": "stdout"
        }
      ]
    },
    {
      "cell_type": "markdown",
      "metadata": {
        "id": "0Gp4ja0vWX3n",
        "colab_type": "text"
      },
      "source": [
        "ob1001    9 sub 10 = 1001 sub 2"
      ]
    },
    {
      "cell_type": "markdown",
      "metadata": {
        "id": "_FMUVu7-Whbg",
        "colab_type": "text"
      },
      "source": [
        "Left and Right Shift Bits\n",
        "\n",
        "x<<y\n",
        "Returns x with the bits shifted to the left by y places////9and new bits on the right hand side are zeros). This is the same as multiplying x by 2**y\n",
        "\n",
        "x>>y\n",
        "Returns x with the bits shifted to the right by y places. this is the same as dividing (//) x by 2** y"
      ]
    },
    {
      "cell_type": "code",
      "metadata": {
        "id": "ZZUqBAwjWTgv",
        "colab_type": "code",
        "colab": {
          "base_uri": "https://localhost:8080/",
          "height": 51
        },
        "outputId": "6d81b42b-580a-457d-ed07-4d8acbd2f371"
      },
      "source": [
        "print(4<<2)\n",
        "#-> 4 * 2*2=16\n",
        "print(4>>2)\n",
        "#-> 4 //2 * 2 =1"
      ],
      "execution_count": 4,
      "outputs": [
        {
          "output_type": "stream",
          "text": [
            "16\n",
            "1\n"
          ],
          "name": "stdout"
        }
      ]
    },
    {
      "cell_type": "markdown",
      "metadata": {
        "id": "EPx3hwKOXY9y",
        "colab_type": "text"
      },
      "source": [
        "x & y\n",
        "\n",
        "Does a \"bitwise and\" . Each bit of the output is 1 if the corresponding bit of x AND of y is 1 otherwise its 0\n",
        "\n",
        "x|y\n",
        "\n",
        "Does a \"bitwise or\". Each bit if the output is ) is the corresponding bit of x AND of y is 0, otherwise its 1"
      ]
    },
    {
      "cell_type": "code",
      "metadata": {
        "id": "S5ew7TiWX21i",
        "colab_type": "code",
        "colab": {
          "base_uri": "https://localhost:8080/",
          "height": 34
        },
        "outputId": "072cefbd-a0d9-4297-dbe2-2461400854e5"
      },
      "source": [
        "print(5 & 7)\n",
        "#5\n",
        "#0101 & 0111"
      ],
      "execution_count": 5,
      "outputs": [
        {
          "output_type": "stream",
          "text": [
            "5\n"
          ],
          "name": "stdout"
        }
      ]
    },
    {
      "cell_type": "code",
      "metadata": {
        "id": "94xRhnmxX5Xp",
        "colab_type": "code",
        "colab": {
          "base_uri": "https://localhost:8080/",
          "height": 34
        },
        "outputId": "b5f06706-cc74-4706-882c-583bbbab949d"
      },
      "source": [
        "print(5|7)\n",
        "#7\n",
        "#0101 par= 5"
      ],
      "execution_count": 6,
      "outputs": [
        {
          "output_type": "stream",
          "text": [
            "7\n"
          ],
          "name": "stdout"
        }
      ]
    },
    {
      "cell_type": "markdown",
      "metadata": {
        "id": "UHvD3SiQYLE0",
        "colab_type": "text"
      },
      "source": [
        "Bitwise Negation and XOR\n",
        "\n",
        "~X\n",
        "\n",
        "Returns the complement of x - the number you get by switiching each 1 for a 0 and each 0 for a 1. This is the same as -x -1\n",
        "\n",
        "x ^ y\n",
        "\n",
        "Does a \" bitwise exclusive or\". Each bit of the output is the same as the corresponding bit in x if that bit in y is 0, and its the complement of the bit in x if that bit in y is 1\n"
      ]
    },
    {
      "cell_type": "code",
      "metadata": {
        "id": "876__L-kYtUF",
        "colab_type": "code",
        "colab": {
          "base_uri": "https://localhost:8080/",
          "height": 51
        },
        "outputId": "b7d5ff2f-7598-400b-d40b-5144621b2b13"
      },
      "source": [
        "print(~7)\n",
        "#-8\n",
        "#0101 ^ 0111\n",
        "\n",
        "print(5 ^ 7)\n",
        "#2\n",
        "# 0010 par = 2\n",
        "\n"
      ],
      "execution_count": 8,
      "outputs": [
        {
          "output_type": "stream",
          "text": [
            "-8\n",
            "2\n"
          ],
          "name": "stdout"
        }
      ]
    },
    {
      "cell_type": "code",
      "metadata": {
        "id": "LpjQytA3Y9Fr",
        "colab_type": "code",
        "colab": {}
      },
      "source": [
        ""
      ],
      "execution_count": 0,
      "outputs": []
    },
    {
      "cell_type": "code",
      "metadata": {
        "id": "qgp2CivAXV16",
        "colab_type": "code",
        "colab": {}
      },
      "source": [
        ""
      ],
      "execution_count": 0,
      "outputs": []
    },
    {
      "cell_type": "code",
      "metadata": {
        "id": "bcXQYcmxXPN6",
        "colab_type": "code",
        "colab": {}
      },
      "source": [
        ">"
      ],
      "execution_count": 0,
      "outputs": []
    }
  ]
}