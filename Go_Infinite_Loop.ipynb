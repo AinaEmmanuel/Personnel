{
  "nbformat": 4,
  "nbformat_minor": 0,
  "metadata": {
    "colab": {
      "name": "Go Infinite Loop.ipynb",
      "provenance": [],
      "authorship_tag": "ABX9TyPvxVtEsHSiqENYNoElG/Qk",
      "include_colab_link": true
    },
    "kernelspec": {
      "name": "python3",
      "display_name": "Python 3"
    }
  },
  "cells": [
    {
      "cell_type": "markdown",
      "metadata": {
        "id": "view-in-github",
        "colab_type": "text"
      },
      "source": [
        "<a href=\"https://colab.research.google.com/github/plthiyagu/Personnel/blob/master/Go_Infinite_Loop.ipynb\" target=\"_parent\"><img src=\"https://colab.research.google.com/assets/colab-badge.svg\" alt=\"Open In Colab\"/></a>"
      ]
    },
    {
      "cell_type": "code",
      "metadata": {
        "id": "9kH6EWi0-F2N",
        "colab_type": "code",
        "colab": {
          "base_uri": "https://localhost:8080/",
          "height": 68
        },
        "outputId": "38b06939-e851-4e0c-cb29-92714d75665c"
      },
      "source": [
        "name=[\"SPIDY\",\"MLHUB\",\"FOOD\"]\n",
        "#namelow=[]\n",
        "for i in name:\n",
        "  #namelow.append(i.lower()) break infiniteloop\n",
        "  namelow.append(i.lower())\n",
        "  print(i)\n",
        "  "
      ],
      "execution_count": 4,
      "outputs": [
        {
          "output_type": "stream",
          "text": [
            "SPIDY\n",
            "MLHUB\n",
            "FOOD\n"
          ],
          "name": "stdout"
        }
      ]
    },
    {
      "cell_type": "code",
      "metadata": {
        "id": "uMOqQG98-ZAR",
        "colab_type": "code",
        "colab": {
          "base_uri": "https://localhost:8080/",
          "height": 119
        },
        "outputId": "14995095-f67c-4901-f2c3-ad4714c4ba9e"
      },
      "source": [
        "s = \"abc\"\n",
        "\n",
        "# Loop over string.\n",
        "for c in s:\n",
        "    print(c)\n",
        "\n",
        "# Loop over string indexes.\n",
        "for i in range(0, len(s)):\n",
        "    print(s[i])\n",
        "\n"
      ],
      "execution_count": 5,
      "outputs": [
        {
          "output_type": "stream",
          "text": [
            "a\n",
            "b\n",
            "c\n",
            "a\n",
            "b\n",
            "c\n"
          ],
          "name": "stdout"
        }
      ]
    }
  ]
}