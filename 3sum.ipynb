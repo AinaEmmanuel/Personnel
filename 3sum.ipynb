{
  "nbformat": 4,
  "nbformat_minor": 0,
  "metadata": {
    "colab": {
      "name": "3sum.ipynb",
      "provenance": [],
      "authorship_tag": "ABX9TyNicUE7rZ7+dOQ6QXGN91v3",
      "include_colab_link": true
    },
    "kernelspec": {
      "name": "python3",
      "display_name": "Python 3"
    }
  },
  "cells": [
    {
      "cell_type": "markdown",
      "metadata": {
        "id": "view-in-github",
        "colab_type": "text"
      },
      "source": [
        "<a href=\"https://colab.research.google.com/github/plthiyagu/Personnel/blob/master/3sum.ipynb\" target=\"_parent\"><img src=\"https://colab.research.google.com/assets/colab-badge.svg\" alt=\"Open In Colab\"/></a>"
      ]
    },
    {
      "cell_type": "code",
      "metadata": {
        "id": "b2wvM9t_HI5t",
        "colab_type": "code",
        "colab": {}
      },
      "source": [
        "from __future__ import division\n",
        "import random\n"
      ],
      "execution_count": 0,
      "outputs": []
    },
    {
      "cell_type": "markdown",
      "metadata": {
        "id": "xz9tkxavHT4u",
        "colab_type": "text"
      },
      "source": [
        "'''\n",
        "Leetcode: 3Sum\n",
        "Given an array S of n integers, are there elements a, b, c in S such that a + b + c = 0? Find all unique triplets in the array which gives the sum of zero.\n",
        "Note:\n",
        "Elements in a triplet (a,b,c) must be in non-descending order. (ie, a ? b ? c)\n",
        "The solution set must not contain duplicate triplets.\n",
        "    For example, given array S = {-1 0 1 2 -1 -4},\n",
        "    A solution set is:\n",
        "    (-1, 0, 1)\n",
        "    (-1, -1, 2)\n",
        "http://leetcode.com/2010/04/finding-all-unique-triplets-that-sums.html\n",
        "'''\n",
        "# ~ O(n^2)\n"
      ]
    },
    {
      "cell_type": "code",
      "metadata": {
        "id": "BF9fJtDIHYWq",
        "colab_type": "code",
        "colab": {}
      },
      "source": [
        "def three_sum(s):\n",
        "  s= sorted(s) #O(nlogn)\n",
        "  output = set()\n",
        "  for k in range(len(s)):\n",
        "    target = -s[k]\n",
        "    i,j= k+1,len(s)-1\n",
        "    while i < j:\n",
        "      sum_two = s[i]+s[j]\n",
        "      if sum_two < target:\n",
        "        i += 1\n",
        "      elif sum_two > target:\n",
        "        j-=1\n",
        "      else:\n",
        "        output.add((s[k],s[i],s[j]))\n",
        "  return output\n"
      ],
      "execution_count": 0,
      "outputs": []
    },
    {
      "cell_type": "code",
      "metadata": {
        "id": "JQr_2NluTJvQ",
        "colab_type": "code",
        "colab": {}
      },
      "source": [
        "\n",
        "S = {-1,0,1,2,-1,-4}\n",
        "three_sum(S)"
      ],
      "execution_count": 0,
      "outputs": []
    },
    {
      "cell_type": "code",
      "metadata": {
        "id": "GHBRfXM3TuFA",
        "colab_type": "code",
        "colab": {}
      },
      "source": [
        ""
      ],
      "execution_count": 0,
      "outputs": []
    },
    {
      "cell_type": "code",
      "metadata": {
        "id": "m1ut8R6fThKv",
        "colab_type": "code",
        "colab": {}
      },
      "source": [
        ""
      ],
      "execution_count": 0,
      "outputs": []
    },
    {
      "cell_type": "code",
      "metadata": {
        "id": "o1wB4uHdTYlh",
        "colab_type": "code",
        "colab": {}
      },
      "source": [
        ""
      ],
      "execution_count": 0,
      "outputs": []
    },
    {
      "cell_type": "code",
      "metadata": {
        "id": "JpgNbfVoTMsn",
        "colab_type": "code",
        "colab": {}
      },
      "source": [
        ""
      ],
      "execution_count": 0,
      "outputs": []
    }
  ]
}